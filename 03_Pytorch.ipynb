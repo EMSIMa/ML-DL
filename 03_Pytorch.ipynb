{
  "nbformat": 4,
  "nbformat_minor": 0,
  "metadata": {
    "colab": {
      "provenance": [],
      "gpuType": "T4"
    },
    "kernelspec": {
      "name": "python3",
      "display_name": "Python 3"
    },
    "language_info": {
      "name": "python"
    },
    "accelerator": "GPU"
  },
  "cells": [
    {
      "cell_type": "markdown",
      "source": [
        "# Tenseurs\n",
        "\n",
        "Les tenseurs sont une structure de données spécialisée très similaire aux tableaux et aux matrices.\n",
        "Dans PyTorch, nous utilisons les tenseurs pour coder les entrées et les sorties d'un modèle, ainsi que les paramètres du modèle.\n",
        "\n",
        "\n",
        "Les tenseurs sont similaires aux tableaux `NumPy` et aux `ndarrays`, sauf que les tenseurs peuvent fonctionner sur des GPUs ou d'autres accélérateurs matériels. En fait, les tenseurs et les tableaux NumPy peuvent souvent partager la même adresse mémoire sous-jacente avec une capacité appelée `bridge-to-np-label`, ce qui élimine le besoin de copier les données. Les tenseurs sont également optimisés pour la différenciation automatique (nous verrons cela plus tard ). Si vous êtes familier avec les `ndarrays`, vous serez à l'aise avec l'API des tenseurs.\n",
        "\n",
        "Commençons par mettre en place notre environnement."
      ],
      "metadata": {
        "id": "oRHLTQoOaFjY"
      }
    },
    {
      "cell_type": "code",
      "source": [
        "import torch\n",
        "import numpy as np"
      ],
      "metadata": {
        "id": "5v0sv3tnaOYD"
      },
      "execution_count": 1,
      "outputs": []
    },
    {
      "cell_type": "markdown",
      "source": [
        "# Initialisation d'un tenseur\n",
        "\n",
        "Les tenseurs peuvent être initialisés de différentes manières. Regardez les exemples suivants.\n",
        "\n",
        "## Directement à partir de données\n",
        "\n",
        "Les tenseurs peuvent être créés directement à partir de données. Le type de données est automatiquement déduit."
      ],
      "metadata": {
        "id": "DROBQZ9BaFf_"
      }
    },
    {
      "cell_type": "code",
      "source": [
        "data = [[1, 2],[3, 4]]\n",
        "x_data = torch.tensor(data)\n",
        "x_data"
      ],
      "metadata": {
        "id": "KKPvGWfLaeCs",
        "colab": {
          "base_uri": "https://localhost:8080/"
        },
        "outputId": "2ebb833e-028c-46dd-881c-9a389b8927ee"
      },
      "execution_count": 2,
      "outputs": [
        {
          "output_type": "execute_result",
          "data": {
            "text/plain": [
              "tensor([[1, 2],\n",
              "        [3, 4]])"
            ]
          },
          "metadata": {},
          "execution_count": 2
        }
      ]
    },
    {
      "cell_type": "markdown",
      "source": [
        "## A partir d'un tableau NumPy\n",
        "\n",
        "Les tenseurs peuvent être créés à partir de tableaux NumPy et vice versa.  Puisque numpy _'np_array'_ et tensor _'x_np'_ partagent le même emplacement mémoire, changer la valeur de l'un modifiera l'autre."
      ],
      "metadata": {
        "id": "soc2NKc-aFc6"
      }
    },
    {
      "cell_type": "code",
      "source": [
        "np_array = np.array(data)\n",
        "x_np = torch.from_numpy(np_array)\n",
        "\n",
        "print(f\"Numpy np_array value: \\n {np_array} \\n\")\n",
        "print(f\"Tensor x_np value: \\n {x_np} \\n\")\n",
        "\n",
        "np.multiply(np_array, 2, out=np_array)\n",
        "\n",
        "print(f\"Numpy np_array after * 2 operation: \\n {np_array} \\n\")\n",
        "print(f\"Tensor x_np value after modifying numpy array: \\n {x_np} \\n\")"
      ],
      "metadata": {
        "colab": {
          "base_uri": "https://localhost:8080/"
        },
        "id": "3KglHGVnaq4G",
        "outputId": "67f463fd-433c-4819-9aed-21e54cf3180e"
      },
      "execution_count": 3,
      "outputs": [
        {
          "output_type": "stream",
          "name": "stdout",
          "text": [
            "Numpy np_array value: \n",
            " [[1 2]\n",
            " [3 4]] \n",
            "\n",
            "Tensor x_np value: \n",
            " tensor([[1, 2],\n",
            "        [3, 4]]) \n",
            "\n",
            "Numpy np_array after * 2 operation: \n",
            " [[2 4]\n",
            " [6 8]] \n",
            "\n",
            "Tensor x_np value after modifying numpy array: \n",
            " tensor([[2, 4],\n",
            "        [6, 8]]) \n",
            "\n"
          ]
        }
      ]
    },
    {
      "cell_type": "markdown",
      "source": [
        "## A partir d'un autre tenseur\n",
        "\n",
        "Le nouveau tenseur conserve les propriétés (forme, type de données) du tenseur argument, à moins qu'il ne soit explicitement remplacé."
      ],
      "metadata": {
        "id": "mDdYip99aFaS"
      }
    },
    {
      "cell_type": "code",
      "source": [
        "x_ones = torch.ones_like(x_data) # retains the properties of x_data\n",
        "print(f\"Ones Tensor: \\n {x_ones} \\n\")\n",
        "\n",
        "x_rand = torch.rand_like(x_data, dtype=torch.float) # overrides the datatype of x_data\n",
        "print(f\"Random Tensor: \\n {x_rand} \\n\")"
      ],
      "metadata": {
        "colab": {
          "base_uri": "https://localhost:8080/"
        },
        "id": "lovdJOFNa3co",
        "outputId": "e1b0ca74-e001-4778-8515-be2cf102240e"
      },
      "execution_count": 4,
      "outputs": [
        {
          "output_type": "stream",
          "name": "stdout",
          "text": [
            "Ones Tensor: \n",
            " tensor([[1, 1],\n",
            "        [1, 1]]) \n",
            "\n",
            "Random Tensor: \n",
            " tensor([[0.7243, 0.7732],\n",
            "        [0.2601, 0.2174]]) \n",
            "\n"
          ]
        }
      ]
    },
    {
      "cell_type": "markdown",
      "source": [
        "## Avec des valeurs aléatoires ou constantes\n",
        "\n",
        "`shape` est défini par un tuple de dimensions de tenseur, qui définit le nombre de lignes et de colonnes dans un tenseur. Dans les fonctions ci-dessous, `shape` détermine la dimensionnalité du tenseur de sortie."
      ],
      "metadata": {
        "id": "S8W-t7PDaEve"
      }
    },
    {
      "cell_type": "code",
      "source": [
        "shape = (2,3)\n",
        "rand_tensor = torch.rand(shape)\n",
        "ones_tensor = torch.ones(shape)\n",
        "zeros_tensor = torch.zeros(shape)\n",
        "\n",
        "print(f\"Random Tensor: \\n {rand_tensor} \\n\")\n",
        "print(f\"Ones Tensor: \\n {ones_tensor} \\n\")\n",
        "print(f\"Zeros Tensor: \\n {zeros_tensor}\")"
      ],
      "metadata": {
        "colab": {
          "base_uri": "https://localhost:8080/"
        },
        "id": "iCFoqsSTbAcQ",
        "outputId": "6de3ab6a-dc0b-40ee-fd14-89ece5734023"
      },
      "execution_count": 5,
      "outputs": [
        {
          "output_type": "stream",
          "name": "stdout",
          "text": [
            "Random Tensor: \n",
            " tensor([[0.8015, 0.1767, 0.6034],\n",
            "        [0.4992, 0.0036, 0.9915]]) \n",
            "\n",
            "Ones Tensor: \n",
            " tensor([[1., 1., 1.],\n",
            "        [1., 1., 1.]]) \n",
            "\n",
            "Zeros Tensor: \n",
            " tensor([[0., 0., 0.],\n",
            "        [0., 0., 0.]])\n"
          ]
        }
      ]
    },
    {
      "cell_type": "markdown",
      "source": [
        "# Attributs d'un tenseur\n",
        "\n",
        "Les attributs d'un tenseur décrivent sa forme, son type de données et le dispositif sur lequel il est stocké."
      ],
      "metadata": {
        "id": "7s9mn2wZbMu0"
      }
    },
    {
      "cell_type": "code",
      "source": [
        "tensor = torch.rand(3,4)\n",
        "\n",
        "print(f\"Shape of tensor: {tensor.shape}\")\n",
        "print(f\"Datatype of tensor: {tensor.dtype}\")\n",
        "print(f\"Device tensor is stored on: {tensor.device}\")"
      ],
      "metadata": {
        "colab": {
          "base_uri": "https://localhost:8080/"
        },
        "id": "z58t0mGkbLux",
        "outputId": "ace1463d-d747-41f0-b357-8248c641f45f"
      },
      "execution_count": 6,
      "outputs": [
        {
          "output_type": "stream",
          "name": "stdout",
          "text": [
            "Shape of tensor: torch.Size([3, 4])\n",
            "Datatype of tensor: torch.float32\n",
            "Device tensor is stored on: cpu\n"
          ]
        }
      ]
    },
    {
      "cell_type": "markdown",
      "source": [
        "# Opérations sur les tenseurs\n",
        "\n",
        "Il existe plus de 100 opérations sur les tenseurs, y compris l'arithmétique, l'algèbre linéaire, la manipulation de matrices (comme la transposition, l'indexation et le découpage). Pour l'échantillonnage et l'examen, vous trouverez une description complète [ici](https://pytorch.org/docs/stable/torch.html).\n",
        "\n",
        "Chacune de ces opérations peut être exécutée sur le GPU (à des vitesses généralement plus élevées que sur un\n",
        "CPU).\n",
        "- Les CPU ont jusqu'à 64 cœurs. Les cœurs sont des unités qui effectuent le calcul proprement dit. Chaque cœur traite les tâches dans un ordre séquentiel (une tâche à la fois).\n",
        "- Les GPU ont des milliers de cœurs.  Les cœurs des GPU effectuent des calculs en parallèle. Les tâches sont réparties et traitées entre les différents cœurs. C'est ce qui rend les GPU plus rapides que les CPU dans la plupart des cas. Les GPU sont plus performants pour les données de grande taille que pour les données de petite taille. Les GPU sont généralement utilisés pour les calculs intensifs de graphiques ou de réseaux neuronaux.\n",
        "- PyTorch peut utiliser la bibliothèque Nvidia CUDA pour tirer parti de leurs cartes GPU.\n",
        "\n",
        "\n",
        "Par défaut, les tenseurs sont créés sur le CPU. Les tenseurs peuvent également être calculés sur des GPUs ; pour cela, vous devez les déplacer en utilisant la méthode `.to` (après avoir vérifié la disponibilité des GPUs). Gardez à l'esprit que la copie de tenseurs de grande taille sur différents périphériques peut être coûteuse en termes de temps et de mémoire !"
      ],
      "metadata": {
        "id": "875oB1Cva5za"
      }
    },
    {
      "cell_type": "code",
      "source": [
        "# We move our tensor to the GPU if available\n",
        "if torch.cuda.is_available():\n",
        "  tensor = tensor.to('cuda')"
      ],
      "metadata": {
        "id": "jLvADlg1beJX"
      },
      "execution_count": 7,
      "outputs": []
    },
    {
      "cell_type": "markdown",
      "source": [
        "Essayez certaines des opérations de la liste.\n",
        "Si vous êtes familier avec l'API NumPy, vous trouverez l'API Tensor très facile à utiliser.\n",
        "\n",
        "## Indexation et découpage standard de type NumPy"
      ],
      "metadata": {
        "id": "Icytxjrsa5wD"
      }
    },
    {
      "cell_type": "code",
      "source": [
        "tensor = torch.ones(4, 4)\n",
        "print('First row: ',tensor[0])\n",
        "print('First column: ', tensor[:, 0])\n",
        "print('Last column:', tensor[..., -1])\n",
        "tensor[:,1] = 0\n",
        "print(tensor)"
      ],
      "metadata": {
        "colab": {
          "base_uri": "https://localhost:8080/"
        },
        "id": "47s-_w8JbquM",
        "outputId": "55852152-5b76-4e74-beb8-9572ebcf2c26"
      },
      "execution_count": 8,
      "outputs": [
        {
          "output_type": "stream",
          "name": "stdout",
          "text": [
            "First row:  tensor([1., 1., 1., 1.])\n",
            "First column:  tensor([1., 1., 1., 1.])\n",
            "Last column: tensor([1., 1., 1., 1.])\n",
            "tensor([[1., 0., 1., 1.],\n",
            "        [1., 0., 1., 1.],\n",
            "        [1., 0., 1., 1.],\n",
            "        [1., 0., 1., 1.]])\n"
          ]
        }
      ]
    },
    {
      "cell_type": "markdown",
      "source": [
        "## Joindre des tenseurs\n",
        "Vous pouvez utiliser [`torch.cat`](https://pytorch.org/docs/stable/generated/torch.cat.html) pour concaténer une séquence de tenseurs le long d'une *dimension donnée*.\n",
        "[`torch.stack`](https://pytorch.org/docs/stable/generated/torch.stack.html) est une option connexe de jonction de tenseurs qui concatène une séquence de tenseurs le long d'une *nouvelle* dimension."
      ],
      "metadata": {
        "id": "KTLluR4Oa5tT"
      }
    },
    {
      "cell_type": "code",
      "source": [
        "t1 = torch.cat([tensor, tensor, tensor], dim=1)\n",
        "print(t1)"
      ],
      "metadata": {
        "colab": {
          "base_uri": "https://localhost:8080/"
        },
        "id": "pwZg2-DPb0Je",
        "outputId": "7e419c00-ecbb-4916-d92b-dfad14547461"
      },
      "execution_count": 9,
      "outputs": [
        {
          "output_type": "stream",
          "name": "stdout",
          "text": [
            "tensor([[1., 0., 1., 1., 1., 0., 1., 1., 1., 0., 1., 1.],\n",
            "        [1., 0., 1., 1., 1., 0., 1., 1., 1., 0., 1., 1.],\n",
            "        [1., 0., 1., 1., 1., 0., 1., 1., 1., 0., 1., 1.],\n",
            "        [1., 0., 1., 1., 1., 0., 1., 1., 1., 0., 1., 1.]])\n"
          ]
        }
      ]
    },
    {
      "cell_type": "markdown",
      "source": [
        "## Opérations arithmétiques"
      ],
      "metadata": {
        "id": "5AwLj99Ta5qs"
      }
    },
    {
      "cell_type": "code",
      "source": [
        "# This computes the matrix multiplication between two tensors. y1, y2, y3 will have the same value\n",
        "y1 = tensor @ tensor.T\n",
        "y2 = tensor.matmul(tensor.T)\n",
        "\n",
        "y3 = torch.rand_like(tensor)\n",
        "torch.matmul(tensor, tensor.T, out=y3)\n",
        "\n",
        "\n",
        "# This computes the element-wise product. z1, z2, z3 will have the same value\n",
        "z1 = tensor * tensor\n",
        "z2 = tensor.mul(tensor)\n",
        "\n",
        "z3 = torch.rand_like(tensor)\n",
        "torch.mul(tensor, tensor, out=z3)"
      ],
      "metadata": {
        "colab": {
          "base_uri": "https://localhost:8080/"
        },
        "id": "m4B81pwVb8Nl",
        "outputId": "f8f441e1-8718-4c7f-9121-11d85c499fa8"
      },
      "execution_count": 10,
      "outputs": [
        {
          "output_type": "execute_result",
          "data": {
            "text/plain": [
              "tensor([[1., 0., 1., 1.],\n",
              "        [1., 0., 1., 1.],\n",
              "        [1., 0., 1., 1.],\n",
              "        [1., 0., 1., 1.]])"
            ]
          },
          "metadata": {},
          "execution_count": 10
        }
      ]
    },
    {
      "cell_type": "markdown",
      "source": [
        "## Tenseurs à un seul élément\n",
        "Si vous avez un tenseur à un élément, par exemple en agrégeant toutes les valeurs d'un tenseur en une seule valeur, vous pouvez le convertir en valeur numérique Python\n",
        "en utilisant `item()` :"
      ],
      "metadata": {
        "id": "kddK-cNoa5n7"
      }
    },
    {
      "cell_type": "code",
      "source": [
        "agg = tensor.sum()\n",
        "agg_item = agg.item()\n",
        "print(agg_item, type(agg_item))"
      ],
      "metadata": {
        "colab": {
          "base_uri": "https://localhost:8080/"
        },
        "id": "onfL5nOGcEzm",
        "outputId": "d833a105-ac3a-4d0d-90ae-474a29faa161"
      },
      "execution_count": 11,
      "outputs": [
        {
          "output_type": "stream",
          "name": "stdout",
          "text": [
            "12.0 <class 'float'>\n"
          ]
        }
      ]
    },
    {
      "cell_type": "markdown",
      "source": [
        "## Opérations sur place\n",
        "Les opérations qui stockent le résultat dans l'opérande sont appelées \"in-place\". Elles sont désignées par un suffixe ``_``.\n",
        "Par exemple : ``x.copy_(y)``, ``x.t_()``, changeront ``x``.\n",
        "\n",
        ">**Note:** Les opérations in-place permettent d'économiser de la mémoire, mais peuvent être problématiques lors du calcul des dérivées à cause de la perte immédiate de l'historique. Leur utilisation est donc déconseillée."
      ],
      "metadata": {
        "id": "H9UePLCoa5lE"
      }
    },
    {
      "cell_type": "code",
      "source": [
        "print(tensor, \"\\n\")\n",
        "tensor.add_(5)\n",
        "print(tensor)"
      ],
      "metadata": {
        "colab": {
          "base_uri": "https://localhost:8080/"
        },
        "id": "ww4kONLBcOkF",
        "outputId": "4a1f84cf-d7c7-4cb0-eae6-f0fa3cedc553"
      },
      "execution_count": 12,
      "outputs": [
        {
          "output_type": "stream",
          "name": "stdout",
          "text": [
            "tensor([[1., 0., 1., 1.],\n",
            "        [1., 0., 1., 1.],\n",
            "        [1., 0., 1., 1.],\n",
            "        [1., 0., 1., 1.]]) \n",
            "\n",
            "tensor([[6., 5., 6., 6.],\n",
            "        [6., 5., 6., 6.],\n",
            "        [6., 5., 6., 6.],\n",
            "        [6., 5., 6., 6.]])\n"
          ]
        }
      ]
    },
    {
      "cell_type": "markdown",
      "source": [
        "## Pont avec NumPy\n",
        "\n",
        "Les tenseurs sur le CPU et les tableaux NumPy peuvent partager leurs emplacements mémoire sous-jacents, et la modification de l'un modifiera l'autre.\n",
        "\n",
        "### Tenseur vers tableau NumPy"
      ],
      "metadata": {
        "id": "yedjJvIGa5iO"
      }
    },
    {
      "cell_type": "code",
      "source": [
        "t = torch.ones(5)\n",
        "print(f\"t: {t}\")\n",
        "n = t.numpy()\n",
        "print(f\"n: {n}\")"
      ],
      "metadata": {
        "colab": {
          "base_uri": "https://localhost:8080/"
        },
        "id": "Oo4WNjnmcXYp",
        "outputId": "7c83c9b1-d550-4228-e0fd-4664a32acbae"
      },
      "execution_count": 13,
      "outputs": [
        {
          "output_type": "stream",
          "name": "stdout",
          "text": [
            "t: tensor([1., 1., 1., 1., 1.])\n",
            "n: [1. 1. 1. 1. 1.]\n"
          ]
        }
      ]
    },
    {
      "cell_type": "code",
      "source": [
        "t.add_(1)\n",
        "print(f\"t: {t}\")\n",
        "print(f\"n: {n}\")"
      ],
      "metadata": {
        "colab": {
          "base_uri": "https://localhost:8080/"
        },
        "id": "BwjiYpjzcfvo",
        "outputId": "adc5b76a-aef6-4565-d8ce-ac8cbac8cf58"
      },
      "execution_count": 14,
      "outputs": [
        {
          "output_type": "stream",
          "name": "stdout",
          "text": [
            "t: tensor([2., 2., 2., 2., 2.])\n",
            "n: [2. 2. 2. 2. 2.]\n"
          ]
        }
      ]
    },
    {
      "cell_type": "markdown",
      "source": [
        "Un changement dans le tenseur se reflète dans le tableau NumPy."
      ],
      "metadata": {
        "id": "Xs2fclRaa5fY"
      }
    },
    {
      "cell_type": "markdown",
      "source": [
        "### NumPy array à tensor"
      ],
      "metadata": {
        "id": "7co2YwQva5ca"
      }
    },
    {
      "cell_type": "code",
      "source": [
        "n = np.ones(5)\n",
        "t = torch.from_numpy(n)"
      ],
      "metadata": {
        "id": "Y9xyjs-mcpDv"
      },
      "execution_count": 15,
      "outputs": []
    },
    {
      "cell_type": "markdown",
      "source": [
        "Les changements dans le tableau NumPy se reflètent dans le tenseur."
      ],
      "metadata": {
        "id": "7LI6FOsPa5Zr"
      }
    },
    {
      "cell_type": "code",
      "source": [
        "np.add(n, 1, out=n)\n",
        "print(f\"t: {t}\")\n",
        "print(f\"n: {n}\")"
      ],
      "metadata": {
        "colab": {
          "base_uri": "https://localhost:8080/"
        },
        "id": "RAHKGOiAc1Mm",
        "outputId": "218433ca-ae76-4a2a-f55e-620281aa5078"
      },
      "execution_count": 16,
      "outputs": [
        {
          "output_type": "stream",
          "name": "stdout",
          "text": [
            "t: tensor([2., 2., 2., 2., 2.], dtype=torch.float64)\n",
            "n: [2. 2. 2. 2. 2.]\n"
          ]
        }
      ]
    },
    {
      "cell_type": "markdown",
      "source": [
        "# Datasets et Dataloaders\n",
        "\n",
        "Le code de traitement des échantillons de données peut devenir complexe et difficile à maintenir. Nous souhaitons généralement que le code de nos ensembles de données soit découplé du code d'apprentissage de nos modèles, pour une meilleure lisibilité et modularité.\n",
        "PyTorch fournit deux primitives de données : ``torch.utils.data.DataLoader`` et ``torch.utils.data.Dataset``\n",
        "qui vous permettent d'utiliser des jeux de données pré-chargés ainsi que vos propres données.\n",
        "``Dataset`` stocke les échantillons et leurs étiquettes correspondantes, et ``DataLoader`` enroule un itérable autour de ``Dataset`` pour permettre un accès facile aux échantillons.\n",
        "\n",
        "Les bibliothèques de domaine PyTorch fournissent un certain nombre de jeux de données pré-chargés (comme **_FashionMNIST_**) qui sous-classent ``torch.utils.data.Dataset`` et implémentent des fonctions spécifiques aux données particulières. Les exemples pour le prototypage et l'évaluation de votre modèle incluent :\n",
        "- Jeux de données d'images\n",
        "- Jeux de données texte\n",
        "- Jeux de données audio\n",
        "\n",
        "## Chargement d'un jeu de données\n",
        "\n",
        "Nous allons charger le jeu de données Fashion-MNIST de TorchVision. Fashion-MNIST est un jeu de données d'images d'articles de Zalando composé de 60 000 exemples d'entraînement et de 10 000 exemples de test.  Chaque exemple comprend une image en niveaux de gris de 28×28 et une étiquette associée à l'une des 10 classes.  \n",
        "\n",
        " - Chaque image a une hauteur de 28 pixels et une largeur de 28 pixels, soit un total de 784 pixels\n",
        " - Les 10 classes indiquent de quel type d'image il s'agit, par exemple : T-shirt/top, pantalon, pull-over, robe, sac, botte de cheville, etc.\n",
        " - Les pixels en niveaux de gris ont des valeurs comprises entre 0 et 255 qui mesurent l'intensité des images en noir et blanc.  La valeur de l'intensité augmente du blanc au noir. Par exemple : une couleur blanche vaut 0, tandis qu'une couleur noire vaut 255.\n",
        "\n",
        "\n",
        "\n",
        "\n",
        "Nous chargeons l'ensemble de données FashionMNIST avec les paramètres suivants :\n",
        " - **root** est le chemin d'accès où les données d'entraînement et de test sont stockées.\n",
        " - **train** spécifie l'ensemble de données d'entraînement ou de test.\n",
        " - **download=True** télécharge les données à partir d'Internet si elles ne sont pas disponibles à la racine.\n",
        " - **transform** et `target_transform` spécifient les transformations des caractéristiques et des étiquettes."
      ],
      "metadata": {
        "id": "Ww8KrzIPa5Ws"
      }
    },
    {
      "cell_type": "code",
      "source": [
        "%matplotlib inline\n",
        "import torch\n",
        "from torch.utils.data import Dataset\n",
        "from torchvision import datasets\n",
        "from torchvision.transforms import ToTensor, Lambda\n",
        "import matplotlib.pyplot as plt\n",
        "\n",
        "training_data = datasets.FashionMNIST(\n",
        "    root=\"data\",\n",
        "    train=True,\n",
        "    download=True,\n",
        "    transform=ToTensor()\n",
        ")\n",
        "\n",
        "test_data = datasets.FashionMNIST(\n",
        "    root=\"data\",\n",
        "    train=False,\n",
        "    download=True,\n",
        "    transform=ToTensor()\n",
        ")"
      ],
      "metadata": {
        "colab": {
          "base_uri": "https://localhost:8080/"
        },
        "id": "Z9rEg8oOdEqw",
        "outputId": "7d346b3f-a0fa-4e54-90e4-8e31f8b563ac"
      },
      "execution_count": 17,
      "outputs": [
        {
          "output_type": "stream",
          "name": "stdout",
          "text": [
            "Downloading http://fashion-mnist.s3-website.eu-central-1.amazonaws.com/train-images-idx3-ubyte.gz\n",
            "Downloading http://fashion-mnist.s3-website.eu-central-1.amazonaws.com/train-images-idx3-ubyte.gz to data/FashionMNIST/raw/train-images-idx3-ubyte.gz\n"
          ]
        },
        {
          "output_type": "stream",
          "name": "stderr",
          "text": [
            "100%|██████████| 26421880/26421880 [00:02<00:00, 10326444.31it/s]\n"
          ]
        },
        {
          "output_type": "stream",
          "name": "stdout",
          "text": [
            "Extracting data/FashionMNIST/raw/train-images-idx3-ubyte.gz to data/FashionMNIST/raw\n",
            "\n",
            "Downloading http://fashion-mnist.s3-website.eu-central-1.amazonaws.com/train-labels-idx1-ubyte.gz\n",
            "Downloading http://fashion-mnist.s3-website.eu-central-1.amazonaws.com/train-labels-idx1-ubyte.gz to data/FashionMNIST/raw/train-labels-idx1-ubyte.gz\n"
          ]
        },
        {
          "output_type": "stream",
          "name": "stderr",
          "text": [
            "100%|██████████| 29515/29515 [00:00<00:00, 174706.68it/s]\n"
          ]
        },
        {
          "output_type": "stream",
          "name": "stdout",
          "text": [
            "Extracting data/FashionMNIST/raw/train-labels-idx1-ubyte.gz to data/FashionMNIST/raw\n",
            "\n",
            "Downloading http://fashion-mnist.s3-website.eu-central-1.amazonaws.com/t10k-images-idx3-ubyte.gz\n",
            "Downloading http://fashion-mnist.s3-website.eu-central-1.amazonaws.com/t10k-images-idx3-ubyte.gz to data/FashionMNIST/raw/t10k-images-idx3-ubyte.gz\n"
          ]
        },
        {
          "output_type": "stream",
          "name": "stderr",
          "text": [
            "100%|██████████| 4422102/4422102 [00:01<00:00, 3215734.05it/s]\n"
          ]
        },
        {
          "output_type": "stream",
          "name": "stdout",
          "text": [
            "Extracting data/FashionMNIST/raw/t10k-images-idx3-ubyte.gz to data/FashionMNIST/raw\n",
            "\n",
            "Downloading http://fashion-mnist.s3-website.eu-central-1.amazonaws.com/t10k-labels-idx1-ubyte.gz\n",
            "Downloading http://fashion-mnist.s3-website.eu-central-1.amazonaws.com/t10k-labels-idx1-ubyte.gz to data/FashionMNIST/raw/t10k-labels-idx1-ubyte.gz\n"
          ]
        },
        {
          "output_type": "stream",
          "name": "stderr",
          "text": [
            "100%|██████████| 5148/5148 [00:00<00:00, 19024032.59it/s]"
          ]
        },
        {
          "output_type": "stream",
          "name": "stdout",
          "text": [
            "Extracting data/FashionMNIST/raw/t10k-labels-idx1-ubyte.gz to data/FashionMNIST/raw\n",
            "\n"
          ]
        },
        {
          "output_type": "stream",
          "name": "stderr",
          "text": [
            "\n"
          ]
        }
      ]
    },
    {
      "cell_type": "markdown",
      "source": [
        "## Itération et visualisation de l'ensemble de données\n",
        "-----------------\n",
        "\n",
        "Nous pouvons indexer ``Datasets`` manuellement comme une liste : ``training_data[index]``.\n",
        "Nous utilisons ``matplotlib`` pour visualiser certains échantillons de nos données d'entraînement."
      ],
      "metadata": {
        "id": "uxKJMECCa5UB"
      }
    },
    {
      "cell_type": "code",
      "source": [
        "labels_map = {\n",
        "    0: \"T-Shirt\",\n",
        "    1: \"Trouser\",\n",
        "    2: \"Pullover\",\n",
        "    3: \"Dress\",\n",
        "    4: \"Coat\",\n",
        "    5: \"Sandal\",\n",
        "    6: \"Shirt\",\n",
        "    7: \"Sneaker\",\n",
        "    8: \"Bag\",\n",
        "    9: \"Ankle Boot\",\n",
        "}\n",
        "figure = plt.figure(figsize=(8, 8))\n",
        "cols, rows = 3, 3\n",
        "for i in range(1, cols * rows + 1):\n",
        "    sample_idx = torch.randint(len(training_data), size=(1,)).item()\n",
        "    img, label = training_data[sample_idx]\n",
        "    figure.add_subplot(rows, cols, i)\n",
        "    plt.title(labels_map[label])\n",
        "    plt.axis(\"off\")\n",
        "    plt.imshow(img.squeeze(), cmap=\"gray\")\n",
        "plt.show()"
      ],
      "metadata": {
        "colab": {
          "base_uri": "https://localhost:8080/",
          "height": 675
        },
        "id": "QzU2fsuAdTa-",
        "outputId": "aeb98f49-0c7e-4e6d-ca98-d153e79c7e3e"
      },
      "execution_count": 18,
      "outputs": [
        {
          "output_type": "display_data",
          "data": {
            "text/plain": [
              "<Figure size 800x800 with 9 Axes>"
            ],
            "image/png": "[encoded data removed]"
          },
          "metadata": {}
        }
      ]
    },
    {
      "cell_type": "markdown",
      "source": [
        "## Préparer vos données pour l'entrainement avec DataLoaders\n",
        "-------------------------------------------------\n",
        "Le ``Dataset`` récupère les caractéristiques et les étiquettes de notre jeu de données, un échantillon à la fois. Lors de l'apprentissage d'un modèle, nous voulons typiquement\n",
        "passer les échantillons en \"minibatchs\", remanier les données à chaque epoch pour réduire le surajustement du modèle, et utiliser le multiprocessing de Python pour accélérer la récupération des données.\n",
        "\n",
        "En apprentissage automatique, vous devez spécifier les caractéristiques et les étiquettes de votre ensemble de données. Les **caractéristiques** sont des données d'entrée et les **étiquettes** sont des données de sortie.\n",
        "\n",
        "  - Les caractéristiques sont les motifs des pixels des images\n",
        "  - Les étiquettes sont nos 10 types de classes :  T-shirt, Sandale, Robe, etc\n",
        "\n",
        "Le ``DataLoader`` est un itérable qui abstrait cette complexité pour nous dans une API plus simple. Pour utiliser le Dataloader, nous devons définir les paramètres suivants :\n",
        "\n",
        " - **data** les données d'entraînement qui seront utilisées pour entraîner le modèle, et les données de test pour évaluer le modèle\n",
        " - **batch_size**  : le nombre d'enregistrements à traiter dans chaque lot.\n",
        " - **shuffle** l'échantillonage aléatoire des données par indices"
      ],
      "metadata": {
        "id": "H6aiPEW8a5RK"
      }
    },
    {
      "cell_type": "code",
      "source": [
        "from torch.utils.data import DataLoader\n",
        "\n",
        "train_dataloader = DataLoader(training_data, batch_size=64, shuffle=True)\n",
        "test_dataloader = DataLoader(test_data, batch_size=64, shuffle=True)"
      ],
      "metadata": {
        "id": "pGa_CGQ_dpb5"
      },
      "execution_count": 19,
      "outputs": []
    },
    {
      "cell_type": "markdown",
      "source": [
        "## Itérer à travers le DataLoader\n",
        "\n",
        "Nous avons chargé ce jeu de données dans le `Dataloader` et nous pouvons maintenant itérer à travers le jeu de données.\n",
        "Chaque itération ci-dessous retourne un batch de `train_features` et `train_labels` (contenant respectivement `batch_size=64` features et labels). Parce que nous avons spécifié `shuffle=True`, après avoir itéré sur tous les lots, les données sont mélangées, pour un contrôle plus fin sur l'ordre de chargement des données."
      ],
      "metadata": {
        "id": "I5j1hWNta5OI"
      }
    },
    {
      "cell_type": "code",
      "source": [
        "# Display image and label.\n",
        "train_features, train_labels = next(iter(train_dataloader))\n",
        "print(f\"Feature batch shape: {train_features.size()}\")\n",
        "print(f\"Labels batch shape: {train_labels.size()}\")\n",
        "img = train_features[0].squeeze()\n",
        "label = train_labels[0]\n",
        "plt.imshow(img, cmap=\"gray\")\n",
        "plt.show()\n",
        "label_name = list(labels_map.values())[label]\n",
        "print(f\"Label: {label_name}\")"
      ],
      "metadata": {
        "colab": {
          "base_uri": "https://localhost:8080/",
          "height": 483
        },
        "id": "Yk-4nbVYdzjZ",
        "outputId": "4a2029c5-3097-4343-9223-0130ad0539da"
      },
      "execution_count": 20,
      "outputs": [
        {
          "output_type": "stream",
          "name": "stdout",
          "text": [
            "Feature batch shape: torch.Size([64, 1, 28, 28])\n",
            "Labels batch shape: torch.Size([64])\n"
          ]
        },
        {
          "output_type": "display_data",
          "data": {
            "text/plain": [
              "<Figure size 640x480 with 1 Axes>"
            ],
            "image/png": "[encoded data removed]"
          },
          "metadata": {}
        },
        {
          "output_type": "stream",
          "name": "stdout",
          "text": [
            "Label: Sneaker\n"
          ]
        }
      ]
    },
    {
      "cell_type": "markdown",
      "source": [
        "# Normalisation\n",
        "\n",
        "La normalisation est une technique courante de prétraitement des données qui est appliquée pour mettre à l'échelle ou transformer les données afin de s'assurer que chaque caractéristique apporte une contribution égale à l'apprentissage. Par exemple, chaque pixel des images en niveaux de gris a une valeur comprise entre 0 et 255, qui sont des caractéristiques. Si la valeur d'un pixel est de 17 et celle d'un autre de 197. Il y aura une distribution inégale de l'importance des pixels, car les volumes de pixels les plus élevés dévieront l'apprentissage. La normalisation modifie l'étendue de vos données, sans fausser la distinction entre nos caractéristiques. Ce prétraitement est effectué pour éviter :\n",
        "\n",
        "- une réduction de la précision de la prédiction\n",
        "- une difficulté d'apprentissage pour le modèle\n",
        "- Une distribution défavorable des plages de données des caractéristiques"
      ],
      "metadata": {
        "id": "5IwWhz9Za5LO"
      }
    },
    {
      "cell_type": "markdown",
      "source": [
        "## Transformations\n",
        "\n",
        "Les données ne se présentent pas toujours sous la forme traitée finale requise pour\n",
        "pour l'apprentissage des algorithmes d'apprentissage automatique. Nous utilisons des **transformations** pour manipuler les données et les rendre aptes à l'apprentissage.\n",
        "\n",
        "Tous les jeux de données de TorchVision ont deux paramètres (`transform` pour modifier les caractéristiques et\n",
        "`target_transform` pour modifier les étiquettes) qui acceptent des callables contenant la logique de transformation. Le module `torchvision.transforms` offre plusieurs\n",
        "plusieurs transformations couramment utilisées.\n",
        "\n",
        "Les caractéristiques FashionMNIST sont au format PIL Image, et les étiquettes sont des entiers.\n",
        "Pour l'entraînement, nous avons besoin des caractéristiques sous forme de tenseurs normalisés, et des étiquettes sous forme de tenseurs codés à une position.\n",
        "Pour effectuer ces transformations, nous utiliserons `ToTensor` et `Lambda`."
      ],
      "metadata": {
        "id": "Q34sw9b4a5IQ"
      }
    },
    {
      "cell_type": "code",
      "source": [
        "from torchvision import datasets\n",
        "from torchvision.transforms import ToTensor, Lambda\n",
        "\n",
        "ds = datasets.FashionMNIST(\n",
        "    root=\"data\",\n",
        "    train=True,\n",
        "    download=True,\n",
        "    transform=ToTensor(),\n",
        "    target_transform=Lambda(lambda y: torch.zeros(10, dtype=torch.float).scatter_(0, torch.tensor(y), value=1))\n",
        ")"
      ],
      "metadata": {
        "id": "NdsWbWxFeDwl"
      },
      "execution_count": 21,
      "outputs": []
    },
    {
      "cell_type": "markdown",
      "source": [
        "## ToTensor()\n",
        "\n",
        "`ToTensor` convertit une image PIL ou un `ndarray` NumPy en un `FloatTensor` et met à l'échelle les valeurs d'intensité des pixels de l'image dans l'intervalle \\[0., 1.\\].\n",
        "\n",
        "## Transformations lambda\n",
        "\n",
        "Les transformations lambda appliquent n'importe quelle fonction lambda définie par l'utilisateur. Ici, nous définissons une fonction\n",
        "pour transformer l'entier en un tenseur codé en un seul point.\n",
        "Elle crée d'abord un tenseur zéro de taille 10 (le nombre d'étiquettes dans notre jeu de données) et appelle scatter qui attribue une valeur de\n",
        "1 à l'index donné par l'étiquette _y_. Vous pouvez aussi utiliser `torch.nn.functional.one_hot` comme autre option pour faire cela."
      ],
      "metadata": {
        "id": "tDESE4U8a5FR"
      }
    },
    {
      "cell_type": "code",
      "source": [
        "target_transform = Lambda(lambda y: torch.zeros(\n",
        "    10, dtype=torch.float).scatter_(dim=0, index=torch.tensor(y), value=1))"
      ],
      "metadata": {
        "id": "N1_VNQUHeNPe"
      },
      "execution_count": 22,
      "outputs": []
    },
    {
      "cell_type": "markdown",
      "source": [
        "# Qu'est-ce qu'un réseau neuronal ?\n",
        "\n",
        "Un réseau neuronal est un ensemble de **neurones** reliés par des couches. Chaque neurone est une petite\n",
        "unité de calcul qui effectue des calculs simples pour résoudre collectivement un problème. Les neurones sont\n",
        "organisés en 3 types de couches : la couche d'entrée, la couche cachée et la couche de sortie.\n",
        "Les couches cachées et de sortie contiennent un certain nombre de neurones.\n"
      ],
      "metadata": {
        "id": "lUvO0Aw6eBVw"
      }
    },
    {
      "cell_type": "markdown",
      "source": [
        "## Composants d'un réseau neuronal\n",
        "\n",
        "- Une **fonction d'activation** détermine si un neurone doit être activé ou non. Les calculs effectués dans un réseau neuronal comprennent l'application d'une fonction d'activation. Si un neurone s'active, cela signifie que l'entrée est importante. Il existe différents types de fonctions d'activation. Le choix de la fonction d'activation à utiliser dépend de la nature de la sortie. Un autre rôle important d'une fonction d'activation est d'ajouter de la non-linéarité au modèle.\n",
        "\n",
        "    - La fonction _Binary_ est utilisée pour mettre un nœud de sortie à 1 si le résultat de la fonction est positif et à 0 si le résultat de la fonction est nul ou négatif. f(x)= \\begin{cases} 0, & \\text{if } x < 0\\\\ 1, & \\text{if } x\\geq 0\\\\ \\end{cases}\n",
        "    - _Sigmoïde_ est utilisé pour prédire la probabilité qu'un nœud de sortie soit compris entre 0 et 1. $f(x) = {\\large \\frac{1}{1+e^{-x}}}$\n",
        "    - _Tanh_ est utilisé pour prédire si un nœud de sortie est compris entre 1 et -1, pour les cas d'utilisation de la classification. $f(x) = {\\large \\frac{e^{x} - e^{-x}}{e^{x} + e^{-x}}} $\n",
        "    - La _ReLU_ (*fonction d'activation linéaire rectifiée*) est utilisée pour mettre le nœud de sortie à 0 si le résultat de la fonction est négatif et conserve la valeur du résultat si celui-ci est positif. f(x)= \\begin{cases} 0, & \\text{if } x < 0\\\\ x, & \\text{if } x\\geq 0\\\\ \\end{cases}\n",
        "- Les **poids** influencent la proximité de la sortie de notre réseau par rapport à la valeur de sortie attendue. Lorsqu'une entrée entre dans le neurone, elle est multipliée par une valeur de poids et la sortie résultante est soit observée, soit transmise à la couche suivante du réseau neuronal. Les poids de tous les neurones d'une couche sont organisés en un tenseur.\n",
        "- Le **biais** représente la différence entre la sortie de la fonction d'activation et la sortie prévue.\n",
        "\n",
        "\n",
        "\n",
        "Nous pouvons dire qu'une sortie $y$ d'une couche de réseau neuronal avec des poids $W$ et un biais $b$ est calculée comme la somme des entrées multipliées par les poids plus le biais. $x = \\sum{(poids * entrées) + biais} $, où $f(x)$ est la fonction d'activation."
      ],
      "metadata": {
        "id": "vSTfbNNHeBSR"
      }
    },
    {
      "cell_type": "markdown",
      "source": [
        "# Construire un réseau neuronal\n",
        "\n",
        "Les réseaux neuronaux sont constitués de couches et de modules qui effectuent des opérations sur les données. L'espace de noms `torch.nn` fournit tous les blocs de construction dont vous aurez besoin pour construire votre propre réseau neuronal. Chaque module de PyTorch sous-classe `nn.Module`. Un réseau neuronal est lui-même un module composé d'autres modules (couches). Cette structure imbriquée permet de construire et de gérer facilement des architectures complexes.\n",
        "\n",
        "Dans les sections suivantes, nous allons construire un réseau neuronal pour classer les images de l'ensemble de données FashionMNIST."
      ],
      "metadata": {
        "id": "dnNGdK60eBP_"
      }
    },
    {
      "cell_type": "code",
      "source": [
        "%matplotlib inline\n",
        "import os\n",
        "import torch\n",
        "from torch import nn\n",
        "from torch.utils.data import DataLoader\n",
        "from torchvision import datasets, transforms"
      ],
      "metadata": {
        "id": "jdDMl_-E5GQM"
      },
      "execution_count": 23,
      "outputs": []
    },
    {
      "cell_type": "markdown",
      "source": [
        "## Obtenir du hardware pour l'entraînement\n",
        "\n",
        "Nous voulons pouvoir entraîner notre modèle sur un accélérateur matériel tel qu'un GPU, s'il est disponible. Vérifions si `torch.cuda` est disponible; si ce n'est pas le cas, nous continuerons à utiliser le CPU."
      ],
      "metadata": {
        "id": "QKuAbWMMeBNl"
      }
    },
    {
      "cell_type": "code",
      "source": [
        "device = 'cuda' if torch.cuda.is_available() else 'cpu'\n",
        "print('Using {} device'.format(device))"
      ],
      "metadata": {
        "colab": {
          "base_uri": "https://localhost:8080/"
        },
        "id": "Vj9kcH3i5Rfb",
        "outputId": "cc364ee5-7f65-4756-8941-aebaec6b6b16"
      },
      "execution_count": 24,
      "outputs": [
        {
          "output_type": "stream",
          "name": "stdout",
          "text": [
            "Using cuda device\n"
          ]
        }
      ]
    },
    {
      "cell_type": "markdown",
      "source": [
        "## Définir la classe\n",
        "\n",
        "Nous définissons notre réseau neuronal en sous-classant `nn.Module`, et nous initialisons les couches du réseau neuronal dans `__init__`. Chaque sous-classe de `nn.Module` implémente les opérations sur les données d'entrée dans la méthode `forward`.\n",
        "\n",
        "Notre réseau neuronal se compose des éléments suivants :\n",
        "\n",
        "- La couche d'entrée avec 28x28 ou 784 caractéristiques/pixels.\n",
        "- Le premier module linéaire prend les 784 caractéristiques d'entrée et les transforme en une couche cachée de 512 caractéristiques.\n",
        "- La fonction d'activation ReLU sera appliquée dans la transformation.\n",
        "- Le deuxième module linéaire prend 512 caractéristiques en entrée de la première couche cachée et les transforme en 512 caractéristiques dans la couche cachée suivante.\n",
        "- La fonction d'activation ReLU sera appliquée dans la transformation.\n",
        "- Le troisième module linéaire prend 512 caractéristiques en entrée de la deuxième couche cachée et les transforme en couche de sortie avec 10, qui est le nombre de classes.\n",
        "- La fonction d'activation ReLU sera appliquée dans la transformation."
      ],
      "metadata": {
        "id": "N-SMka5O5XXs"
      }
    },
    {
      "cell_type": "code",
      "source": [
        "class NeuralNetwork(nn.Module):\n",
        "    def __init__(self):\n",
        "        super(NeuralNetwork, self).__init__()\n",
        "        self.flatten = nn.Flatten()\n",
        "        self.linear_relu_stack = nn.Sequential(\n",
        "            nn.Linear(28*28, 512),\n",
        "            nn.ReLU(),\n",
        "            nn.Linear(512, 512),\n",
        "            nn.ReLU(),\n",
        "            nn.Linear(512, 10),\n",
        "            nn.ReLU()\n",
        "        )\n",
        "\n",
        "    def forward(self, x):\n",
        "        x = self.flatten(x)\n",
        "        logits = self.linear_relu_stack(x)\n",
        "        return logits"
      ],
      "metadata": {
        "id": "t3m4BGFk5W1L"
      },
      "execution_count": 25,
      "outputs": []
    },
    {
      "cell_type": "markdown",
      "source": [
        "Nous créons une instance de `NeuralNetwork`, nous la déplaçons sur `device` et nous imprimons sa structure.\n",
        "sa structure."
      ],
      "metadata": {
        "id": "XOALi-XMeBLA"
      }
    },
    {
      "cell_type": "code",
      "source": [
        "model = NeuralNetwork().to(device)\n",
        "print(model)"
      ],
      "metadata": {
        "colab": {
          "base_uri": "https://localhost:8080/"
        },
        "id": "c2RmVKop5p7A",
        "outputId": "13950791-254f-4646-ab3d-391ae4691ee6"
      },
      "execution_count": 26,
      "outputs": [
        {
          "output_type": "stream",
          "name": "stdout",
          "text": [
            "NeuralNetwork(\n",
            "  (flatten): Flatten(start_dim=1, end_dim=-1)\n",
            "  (linear_relu_stack): Sequential(\n",
            "    (0): Linear(in_features=784, out_features=512, bias=True)\n",
            "    (1): ReLU()\n",
            "    (2): Linear(in_features=512, out_features=512, bias=True)\n",
            "    (3): ReLU()\n",
            "    (4): Linear(in_features=512, out_features=10, bias=True)\n",
            "    (5): ReLU()\n",
            "  )\n",
            ")\n"
          ]
        }
      ]
    },
    {
      "cell_type": "markdown",
      "source": [
        "Pour utiliser le modèle, nous lui transmettons les données d'entrée. Cela exécute le `forward` du modèle, ainsi que quelques opérations en arrière-plan. Cependant, n'appelez pas `model.forward()` directement ! L'appel du modèle sur les données d'entrée renvoie un tenseur à 10 dimensions avec les valeurs prédites brutes pour chaque classe.\n",
        "\n",
        "Nous obtenons les densités de prédiction en les passant à travers une instance de `nn.Softmax`."
      ],
      "metadata": {
        "id": "PaUzcI7keBIe"
      }
    },
    {
      "cell_type": "code",
      "source": [
        "X = torch.rand(1, 28, 28, device=device)\n",
        "logits = model(X)\n",
        "pred_probab = nn.Softmax(dim=1)(logits)\n",
        "y_pred = pred_probab.argmax(1)\n",
        "print(f\"Predicted class: {y_pred}\")"
      ],
      "metadata": {
        "colab": {
          "base_uri": "https://localhost:8080/"
        },
        "id": "GqzAwPzn5yHc",
        "outputId": "fd7f5b54-6c49-4c25-f756-2935d2d864c1"
      },
      "execution_count": 27,
      "outputs": [
        {
          "output_type": "stream",
          "name": "stdout",
          "text": [
            "Predicted class: tensor([4], device='cuda:0')\n"
          ]
        }
      ]
    },
    {
      "cell_type": "markdown",
      "source": [
        "## Poids et biais\n",
        "\n",
        "\n",
        "Le module `nn.Linear` initialise aléatoirement les ${weights}$ et ${ bias}$ pour chaque couche et stocke en interne les valeurs dans des Tenseurs."
      ],
      "metadata": {
        "id": "VdLguJ6oeBF_"
      }
    },
    {
      "cell_type": "code",
      "source": [
        "print(f\"First Linear weights: {model.linear_relu_stack[0].weight} \\n\")\n",
        "\n",
        "print(f\"First Linear biases: {model.linear_relu_stack[0].bias} \\n\")"
      ],
      "metadata": {
        "colab": {
          "base_uri": "https://localhost:8080/"
        },
        "id": "nup24QdV5525",
        "outputId": "eeda95af-abb9-4076-84b3-9c40c3f64204"
      },
      "execution_count": 28,
      "outputs": [
        {
          "output_type": "stream",
          "name": "stdout",
          "text": [
            "First Linear weights: Parameter containing:\n",
            "tensor([[-0.0175,  0.0336,  0.0039,  ...,  0.0136,  0.0038,  0.0198],\n",
            "        [-0.0314, -0.0196, -0.0240,  ..., -0.0143, -0.0110, -0.0244],\n",
            "        [-0.0011,  0.0317, -0.0321,  ..., -0.0160, -0.0321, -0.0065],\n",
            "        ...,\n",
            "        [-0.0095,  0.0336, -0.0183,  ..., -0.0221,  0.0251, -0.0029],\n",
            "        [-0.0353,  0.0126,  0.0232,  ..., -0.0260,  0.0151,  0.0217],\n",
            "        [ 0.0082, -0.0139,  0.0212,  ..., -0.0229,  0.0091, -0.0046]],\n",
            "       device='cuda:0', requires_grad=True) \n",
            "\n",
            "First Linear biases: Parameter containing:\n",
            "tensor([-2.4022e-02,  1.0361e-02,  1.6576e-02, -1.3333e-02, -2.4206e-03,\n",
            "         7.5577e-03,  3.3727e-02,  3.0883e-02, -3.2969e-02, -1.3902e-02,\n",
            "        -1.0854e-02,  1.1722e-02, -1.0187e-02, -2.1519e-02, -2.1805e-02,\n",
            "        -3.1644e-02,  1.4266e-02, -1.4623e-02,  1.8836e-02, -1.2628e-02,\n",
            "         9.3002e-03, -3.2353e-02, -5.4218e-03,  2.9240e-03, -2.4175e-02,\n",
            "         1.6056e-02, -1.9283e-02, -1.0349e-02,  6.3722e-03, -3.3704e-02,\n",
            "         2.7591e-02,  2.7102e-03, -3.1607e-02, -1.7107e-02,  7.3008e-03,\n",
            "         2.6844e-02, -1.6695e-02, -2.2164e-02, -3.1920e-02, -2.4984e-02,\n",
            "         1.3781e-03, -1.3640e-03,  2.6375e-02,  1.3851e-02,  3.4693e-02,\n",
            "        -3.3119e-02,  1.4033e-02, -3.1925e-02, -2.3364e-02,  1.2203e-02,\n",
            "         8.1126e-04, -8.7439e-03, -7.1738e-03, -2.3577e-02, -2.3677e-02,\n",
            "         2.3682e-03,  2.9331e-02,  1.0622e-02,  8.3247e-03,  2.2751e-02,\n",
            "         2.1223e-02, -2.9676e-02, -2.5035e-02, -3.0341e-02, -1.0754e-02,\n",
            "        -3.1918e-02,  1.5423e-02, -2.3219e-02,  3.5641e-02, -2.9505e-02,\n",
            "         3.4010e-02, -1.3524e-02, -7.3350e-04, -2.4049e-03, -3.3637e-03,\n",
            "        -2.6028e-03,  1.2672e-02,  6.5553e-03,  2.0462e-02,  9.6735e-03,\n",
            "        -1.7085e-03, -2.6511e-02, -3.2985e-02, -2.4054e-02, -3.5334e-02,\n",
            "         2.5824e-02,  3.4141e-02, -9.3042e-03,  9.7857e-03, -4.9620e-04,\n",
            "        -1.4017e-02, -1.4816e-03, -2.6370e-03, -8.5690e-03,  3.8847e-03,\n",
            "         1.2496e-02,  3.0460e-02, -1.8998e-02, -3.3149e-02,  8.1175e-03,\n",
            "        -9.7726e-03,  1.7368e-02, -3.5542e-02, -1.2108e-02, -2.8579e-02,\n",
            "        -3.2014e-02, -1.7033e-02, -1.3625e-02,  1.0463e-02, -3.4037e-02,\n",
            "         3.0735e-02,  1.0135e-02, -3.3276e-02,  1.0167e-02,  1.5534e-02,\n",
            "         1.7096e-02, -1.0940e-02, -2.6987e-02, -1.5344e-02, -8.1315e-03,\n",
            "         2.0972e-02,  4.8950e-03,  1.0093e-02,  2.2245e-02, -3.2007e-02,\n",
            "        -3.7246e-03,  2.3514e-02,  1.0551e-02,  1.4585e-02, -2.1397e-02,\n",
            "        -2.6228e-02, -2.5353e-02, -3.5191e-03, -2.5095e-02,  1.7022e-02,\n",
            "        -1.7454e-03, -2.0015e-02, -1.2144e-02,  1.0837e-03,  1.9384e-02,\n",
            "        -8.8426e-04, -6.7850e-03, -1.7019e-03,  3.1404e-02,  9.1087e-03,\n",
            "         3.3365e-02, -2.8981e-02,  2.1082e-02,  1.9944e-02, -2.8120e-02,\n",
            "        -6.6898e-05, -1.9246e-02, -2.6498e-02,  1.0200e-02,  1.2758e-02,\n",
            "         2.2010e-02,  1.6393e-02,  2.4603e-02,  2.0157e-02, -1.4805e-02,\n",
            "        -1.1993e-02, -2.3933e-02, -2.7800e-02, -2.4474e-02, -1.1442e-03,\n",
            "         1.9018e-02, -1.7169e-02, -3.5225e-03, -3.1606e-02, -3.5051e-02,\n",
            "        -2.2442e-02, -2.9475e-02, -2.9807e-02, -2.6068e-02, -2.3329e-02,\n",
            "         1.1143e-02,  5.1911e-03,  1.8503e-02, -3.3823e-02,  2.7020e-02,\n",
            "         3.0597e-02, -2.3050e-02,  1.9007e-02,  3.6266e-03, -4.4004e-03,\n",
            "        -5.1495e-03,  2.9148e-03, -5.1231e-03,  6.7284e-03,  3.2117e-02,\n",
            "        -2.2404e-02, -3.4449e-02,  2.4842e-02, -2.5273e-02,  2.5934e-02,\n",
            "         2.8402e-02,  1.6467e-02, -5.7265e-03, -3.3166e-03,  1.9256e-02,\n",
            "        -1.0744e-02,  2.7169e-03, -2.5390e-02, -3.5485e-02, -5.9718e-03,\n",
            "        -2.3635e-02, -1.0485e-02, -1.0855e-02,  1.8807e-03,  1.6473e-02,\n",
            "        -8.8703e-03, -8.0825e-03, -1.8448e-02,  3.5080e-02,  3.8773e-03,\n",
            "         2.6822e-02, -3.4248e-02,  1.8039e-02,  1.2316e-02, -3.1003e-02,\n",
            "        -1.9122e-02,  3.4425e-02, -1.6616e-02,  2.5755e-03, -1.1189e-02,\n",
            "         1.2061e-02, -1.0095e-02,  3.1290e-03, -3.3912e-02,  4.1633e-03,\n",
            "         3.4514e-02, -2.9848e-02, -1.2786e-03, -2.6206e-02, -6.2196e-04,\n",
            "        -3.4496e-03, -1.4168e-02, -1.6390e-02,  2.1078e-02, -1.2168e-02,\n",
            "         6.4577e-03, -1.2927e-02, -2.8320e-02,  2.3309e-02,  1.7285e-02,\n",
            "        -2.6562e-02, -2.5121e-02, -2.1875e-02, -2.6734e-02,  2.0724e-02,\n",
            "         1.0541e-03, -1.6706e-03,  3.5448e-02, -1.5362e-02, -3.4241e-02,\n",
            "         3.0730e-02,  6.4094e-03,  7.9554e-03,  7.2300e-03,  1.6039e-02,\n",
            "         1.3723e-03,  1.6224e-02, -1.5916e-02,  2.8555e-02, -3.0625e-02,\n",
            "        -3.4490e-02,  1.6177e-03, -1.6709e-02,  2.7840e-03,  2.6482e-02,\n",
            "         6.2678e-03, -2.8921e-03,  2.5779e-02,  2.2082e-02,  3.4483e-03,\n",
            "         3.1379e-02, -2.7494e-02,  1.8569e-02,  2.2949e-02,  2.7465e-02,\n",
            "        -2.1141e-02,  2.0281e-02,  1.1688e-02,  3.3248e-02, -3.4383e-02,\n",
            "         9.7176e-03,  1.0803e-02, -5.9248e-03,  3.9033e-03, -1.5641e-02,\n",
            "         3.2583e-02, -2.2214e-02, -3.1460e-02,  3.2935e-02, -1.0472e-03,\n",
            "        -4.0809e-03, -1.4675e-02,  3.2397e-02,  1.4276e-02,  3.0041e-03,\n",
            "        -1.7420e-02,  1.3335e-02,  2.2418e-02,  4.5710e-03, -4.7255e-03,\n",
            "         7.6541e-03, -8.9799e-03,  2.3672e-02, -1.8531e-02, -3.0709e-02,\n",
            "         3.3270e-04, -2.4736e-02, -5.0326e-03,  2.3047e-02,  3.0996e-02,\n",
            "         3.2670e-02, -8.5054e-03,  6.8630e-03, -2.2903e-02, -2.0330e-02,\n",
            "         1.4192e-02, -2.0823e-03,  2.4704e-02, -1.9067e-02, -1.6964e-02,\n",
            "        -1.2876e-02, -2.2079e-02, -3.1640e-02,  1.2242e-02, -1.0067e-02,\n",
            "         2.9860e-02, -1.1554e-02, -8.2108e-04,  1.6533e-02,  8.4561e-03,\n",
            "         6.8648e-03,  2.2675e-02, -9.4059e-03,  2.2256e-02, -3.9431e-03,\n",
            "         1.2214e-02,  1.3721e-02, -2.0203e-02, -1.3711e-02,  1.8045e-02,\n",
            "         3.1745e-02,  1.8310e-02, -3.2773e-02,  1.7770e-02, -2.7988e-02,\n",
            "        -2.9128e-02,  1.1459e-02, -3.4679e-02, -2.1966e-02,  5.6279e-03,\n",
            "        -9.4564e-03,  1.8518e-02,  1.1614e-02,  2.7827e-02,  1.7083e-02,\n",
            "        -1.9064e-02,  1.6248e-02,  7.5242e-03, -2.3943e-02, -2.4214e-03,\n",
            "         4.0508e-03,  3.3311e-02,  4.9637e-03, -2.7552e-02, -4.5139e-03,\n",
            "         1.3700e-02,  2.4686e-02, -1.5858e-02,  3.3344e-02, -2.0067e-02,\n",
            "         2.4483e-02,  3.8886e-03,  3.3184e-02, -1.8690e-02, -8.7665e-03,\n",
            "         2.6725e-02,  2.7433e-02,  2.7862e-02, -3.4593e-02,  2.7862e-02,\n",
            "         3.3578e-02,  7.2591e-03, -1.4077e-02,  5.1812e-04, -2.1725e-02,\n",
            "        -1.9816e-02, -5.7167e-03,  2.7477e-02, -1.5068e-02,  2.8162e-02,\n",
            "        -2.6176e-02, -9.3099e-04,  1.9949e-02,  1.0667e-02,  5.2716e-04,\n",
            "         2.3571e-02, -3.4753e-02,  6.5406e-03,  9.4395e-03,  2.4562e-02,\n",
            "         5.8060e-03,  1.8119e-02,  1.8586e-02, -1.0482e-02,  1.4624e-02,\n",
            "         3.4700e-02, -1.9250e-02, -3.0860e-02, -3.0440e-02,  2.1649e-02,\n",
            "         4.4475e-03,  6.0888e-03,  1.6090e-02,  1.9966e-02,  2.1160e-02,\n",
            "        -1.6848e-02,  2.9002e-02,  2.0217e-02,  2.5276e-02,  1.1892e-02,\n",
            "        -1.2199e-02,  1.8166e-02,  3.9473e-03, -2.0800e-02, -1.0045e-02,\n",
            "         9.2179e-03, -1.2797e-02,  3.0444e-03,  2.2123e-02,  6.7589e-03,\n",
            "        -3.1607e-02, -3.1129e-02,  2.0240e-02,  2.3244e-03, -2.3545e-02,\n",
            "        -3.3237e-02, -3.5049e-02,  2.7234e-02, -2.9727e-02,  5.4246e-03,\n",
            "         1.7514e-02, -2.7654e-02,  3.2757e-02,  1.3248e-02,  6.5805e-03,\n",
            "        -2.1511e-02,  5.2669e-03, -1.7262e-02, -7.9474e-03,  3.1264e-03,\n",
            "        -3.2261e-03,  2.6249e-02, -2.8752e-02,  2.3470e-02,  1.8299e-02,\n",
            "        -7.0049e-03, -3.3137e-02,  1.1028e-02, -1.4535e-02, -1.5444e-02,\n",
            "         1.1578e-02, -3.2147e-02,  2.6106e-02, -1.1058e-02, -3.2540e-02,\n",
            "         1.6040e-02, -3.3682e-02, -3.5739e-03, -2.8764e-02,  9.6020e-03,\n",
            "        -2.6177e-02,  1.9318e-02,  3.9088e-03,  1.2652e-02, -1.9806e-02,\n",
            "        -2.6887e-02, -1.3852e-02, -1.7114e-03, -3.4971e-02,  2.0835e-02,\n",
            "        -3.4149e-02, -2.2170e-02,  1.7356e-03,  3.1420e-02, -1.5360e-02,\n",
            "         1.9054e-02,  1.3062e-02, -8.4654e-04,  1.7260e-03,  2.6838e-02,\n",
            "         3.5008e-02,  1.4633e-02, -2.7918e-02,  1.5240e-02, -2.6747e-02,\n",
            "        -1.9707e-02, -2.7133e-03,  2.0297e-02,  2.0471e-02,  1.2204e-02,\n",
            "        -1.9261e-02, -5.8882e-03,  3.4389e-03, -2.4738e-02, -1.5611e-02,\n",
            "        -2.8364e-02, -1.1583e-02], device='cuda:0', requires_grad=True) \n",
            "\n"
          ]
        }
      ]
    },
    {
      "cell_type": "markdown",
      "source": [
        "## Couches du modèle\n",
        "\n",
        "Décomposons les couches du modèle FashionMNIST. Pour l'illustrer, nous\n",
        "prenons un mini-lot de 3 images de taille **28x28** et voyons ce qu'il en advient lorsque nous le faisons passer dans le réseau."
      ],
      "metadata": {
        "id": "l4jKy7x5eBDQ"
      }
    },
    {
      "cell_type": "code",
      "source": [
        "input_image = torch.rand(3,28,28)\n",
        "print(input_image.size())"
      ],
      "metadata": {
        "colab": {
          "base_uri": "https://localhost:8080/"
        },
        "id": "p12fyv4D6EJl",
        "outputId": "97261d4d-05be-4ad7-8408-20204ca4bb0a"
      },
      "execution_count": 67,
      "outputs": [
        {
          "output_type": "stream",
          "name": "stdout",
          "text": [
            "torch.Size([3, 28, 28])\n"
          ]
        }
      ]
    },
    {
      "cell_type": "markdown",
      "source": [
        "### nn.Flatten\n",
        "\n",
        "Nous initialisons la couche `nn.Flatten` pour convertir chaque image 2D 28x28 en un tableau contigu de 784 valeurs de pixels, c'est-à-dire que la dimension du minibatch (à dim=0) est maintenue. Chacun des pixels est transmis à la couche d'entrée du réseau neuronal.  \n",
        "\n",
        "<img alt=\"Diagramme montrant comment les pixels d'une image sont aplatis.\" src=\"../images/4-model-3.png\" />"
      ],
      "metadata": {
        "id": "1ni349sQeBAr"
      }
    },
    {
      "cell_type": "code",
      "source": [
        "flatten = nn.Flatten()\n",
        "flat_image = flatten(input_image)\n",
        "print(flat_image.size())"
      ],
      "metadata": {
        "colab": {
          "base_uri": "https://localhost:8080/"
        },
        "id": "1r_53e6t6N5d",
        "outputId": "17ebb91c-97da-4823-f7ff-12b830df76a0"
      },
      "execution_count": 30,
      "outputs": [
        {
          "output_type": "stream",
          "name": "stdout",
          "text": [
            "torch.Size([3, 784])\n"
          ]
        }
      ]
    },
    {
      "cell_type": "markdown",
      "source": [
        "### nn. Linear\n",
        "\n",
        "La couche linéaire est un module qui applique une transformation linéaire à l'entrée à l'aide des poids et des biais qu'il a stockés. La valeur en niveaux de gris de chaque pixel de la couche d'entrée sera connectée aux neurones de la couche cachée pour le calcul. Le calcul utilisé pour la transformation est ${{poids * entrée + biais}} $."
      ],
      "metadata": {
        "id": "qKn7Mg4deA9p"
      }
    },
    {
      "cell_type": "code",
      "source": [
        "layer1 = nn.Linear(in_features=28*28, out_features=20)\n",
        "hidden1 = layer1(flat_image)\n",
        "print(hidden1.size())"
      ],
      "metadata": {
        "colab": {
          "base_uri": "https://localhost:8080/"
        },
        "id": "Zkqn9E9W6V5b",
        "outputId": "1518c9a0-0e08-4f80-a4ac-aa337ea1728a"
      },
      "execution_count": 31,
      "outputs": [
        {
          "output_type": "stream",
          "name": "stdout",
          "text": [
            "torch.Size([3, 20])\n"
          ]
        }
      ]
    },
    {
      "cell_type": "markdown",
      "source": [
        "### nn.ReLU\n",
        "\n",
        "Les activations non linéaires créent les correspondances complexes entre les entrées et les sorties du modèle.\n",
        "Elles sont appliquées après les transformations linéaires pour introduire la *non-linéarité*, ce qui permet aux réseaux neuronaux d'apprendre une grande variété de phénomènes.\n",
        "Dans ce modèle, nous utilisons `nn.ReLU` entre nos couches linéaires, mais il existe d'autres activations pour introduire la non-linéarité dans votre modèle.\n",
        "\n",
        "La fonction d'activation ReLU prend la sortie du calcul de la couche linéaire et remplace les valeurs négatives par des zéros.\n",
        "\n",
        "Sortie linéaire : ${ x = {poids * entrée + biais}} $.  \n",
        "ReLU :\n",
        "$f(x)=\n",
        "\\begin{cases}\n",
        "    0, & \\text{if } x < 0\\\\\n",
        "    x, & \\text{if } x\\geq 0\\\\\n",
        "\\end{cases}\n",
        "$"
      ],
      "metadata": {
        "id": "D2hDYxbReA7A"
      }
    },
    {
      "cell_type": "code",
      "source": [
        "print(f\"Before ReLU: {hidden1}\\n\\n\")\n",
        "hidden1 = nn.ReLU()(hidden1)\n",
        "print(f\"After ReLU: {hidden1}\")"
      ],
      "metadata": {
        "colab": {
          "base_uri": "https://localhost:8080/"
        },
        "id": "h0c8Kav_6eb6",
        "outputId": "ef46fd52-508a-4544-ed7a-6a06bc57a6c2"
      },
      "execution_count": 32,
      "outputs": [
        {
          "output_type": "stream",
          "name": "stdout",
          "text": [
            "Before ReLU: tensor([[ 0.4520, -0.4698, -0.3244,  0.5366, -0.2308, -0.1813,  0.3536,  0.0967,\n",
            "         -0.1782,  0.2519,  0.0278,  0.5690,  0.0106, -0.1746, -0.1091,  0.5944,\n",
            "          0.1992,  0.2681,  0.2368, -0.1746],\n",
            "        [ 0.0608, -0.3350, -0.5382,  0.3808, -0.1126, -0.6103,  0.4189,  0.4752,\n",
            "         -0.2502,  0.3595,  0.3911,  0.6121,  0.2240,  0.1250,  0.2595,  0.5182,\n",
            "          0.0250,  0.1874,  0.1373, -0.3256],\n",
            "        [ 0.1822, -0.5051, -0.3464, -0.1076, -0.4147, -0.2408,  0.5895,  0.1618,\n",
            "         -0.4513,  0.4112, -0.1374,  0.6789, -0.2847, -0.0277, -0.0767,  0.4823,\n",
            "          0.0047,  0.3315,  0.0815,  0.0839]], grad_fn=<AddmmBackward0>)\n",
            "\n",
            "\n",
            "After ReLU: tensor([[0.4520, 0.0000, 0.0000, 0.5366, 0.0000, 0.0000, 0.3536, 0.0967, 0.0000,\n",
            "         0.2519, 0.0278, 0.5690, 0.0106, 0.0000, 0.0000, 0.5944, 0.1992, 0.2681,\n",
            "         0.2368, 0.0000],\n",
            "        [0.0608, 0.0000, 0.0000, 0.3808, 0.0000, 0.0000, 0.4189, 0.4752, 0.0000,\n",
            "         0.3595, 0.3911, 0.6121, 0.2240, 0.1250, 0.2595, 0.5182, 0.0250, 0.1874,\n",
            "         0.1373, 0.0000],\n",
            "        [0.1822, 0.0000, 0.0000, 0.0000, 0.0000, 0.0000, 0.5895, 0.1618, 0.0000,\n",
            "         0.4112, 0.0000, 0.6789, 0.0000, 0.0000, 0.0000, 0.4823, 0.0047, 0.3315,\n",
            "         0.0815, 0.0839]], grad_fn=<ReluBackward0>)\n"
          ]
        }
      ]
    },
    {
      "cell_type": "markdown",
      "source": [
        "### nn.Sequential\n",
        "\n",
        "`nn.Sequential` est un conteneur ordonné de modules. Les données sont transmises à tous les modules dans l'ordre défini. Vous pouvez utiliser\n",
        "des conteneurs séquentiels pour mettre en place un réseau rapide comme `seq_modules`."
      ],
      "metadata": {
        "id": "y_gdDtrFeA4K"
      }
    },
    {
      "cell_type": "code",
      "source": [
        "seq_modules = nn.Sequential(\n",
        "    flatten,\n",
        "    layer1,\n",
        "    nn.ReLU(),\n",
        "    nn.Linear(20, 10)\n",
        ")\n",
        "input_image = torch.rand(3,28,28)\n",
        "logits = seq_modules(input_image)"
      ],
      "metadata": {
        "id": "Z7mD-rFH6vFU"
      },
      "execution_count": 33,
      "outputs": []
    },
    {
      "cell_type": "markdown",
      "source": [
        "### nn.Softmax\n",
        "\n",
        "La dernière couche linéaire du réseau neuronal renvoie des `logits` (les valeurs brutes dans \\[`-infty`, `infty`]), qui sont transmis au module\n",
        "`nn.Softmax`. La fonction d'activation Softmax est utilisée pour calculer la probabilité de la sortie du réseau neuronal. Elle n'est utilisée que sur la couche de sortie d'un réseau neuronal. Les résultats sont mis à l'échelle des valeurs \\[0, 1\\] représentant les densités prédites par le modèle pour chaque classe. Le paramètre `dim` indique la dimension sur laquelle la somme des valeurs des résultats doit être égale à 1. Le nœud ayant la probabilité la plus élevée prédit la sortie souhaitée.\n"
      ],
      "metadata": {
        "id": "trYqS1oHeA1c"
      }
    },
    {
      "cell_type": "code",
      "source": [
        "softmax = nn.Softmax(dim=1)\n",
        "pred_probab = softmax(logits)"
      ],
      "metadata": {
        "id": "wInEHap_65I1"
      },
      "execution_count": 34,
      "outputs": []
    },
    {
      "cell_type": "markdown",
      "source": [
        "## Paramètres du modèle\n",
        "\n",
        "De nombreuses couches d'un réseau neuronal sont *paramétrées*, c'est-à-dire que les couches ont des poids et des biais associés qui sont optimisés au cours de l'entrainement.\n",
        "La sous-classe `nn.Module` suit automatiquement tous les champs définis à l'intérieur de l'objet modèle, et rend toutes les couches optimisées pendant l'entrainement. Automatiquement tous les champs définis dans l'objet de votre modèle et rend tous les paramètres\n",
        "accessibles en utilisant les méthodes `parameters()` ou `named_parameters()` de votre modèle.\n",
        "\n",
        "Dans cet exemple, nous itérons sur chaque paramètre, et nous imprimons sa taille ainsi qu'un aperçu de ses valeurs."
      ],
      "metadata": {
        "id": "NxT3YLebeAyc"
      }
    },
    {
      "cell_type": "code",
      "source": [
        "print(\"Model structure: \", model, \"\\n\\n\")\n",
        "\n",
        "for name, param in model.named_parameters():\n",
        "    print(f\"Layer: {name} | Size: {param.size()} | Values : {param[:2]} \\n\")"
      ],
      "metadata": {
        "colab": {
          "base_uri": "https://localhost:8080/"
        },
        "id": "NseGcOUD7B8_",
        "outputId": "18e8f6b8-9c6a-41bc-91a5-a8a7bd37e272"
      },
      "execution_count": 35,
      "outputs": [
        {
          "output_type": "stream",
          "name": "stdout",
          "text": [
            "Model structure:  NeuralNetwork(\n",
            "  (flatten): Flatten(start_dim=1, end_dim=-1)\n",
            "  (linear_relu_stack): Sequential(\n",
            "    (0): Linear(in_features=784, out_features=512, bias=True)\n",
            "    (1): ReLU()\n",
            "    (2): Linear(in_features=512, out_features=512, bias=True)\n",
            "    (3): ReLU()\n",
            "    (4): Linear(in_features=512, out_features=10, bias=True)\n",
            "    (5): ReLU()\n",
            "  )\n",
            ") \n",
            "\n",
            "\n",
            "Layer: linear_relu_stack.0.weight | Size: torch.Size([512, 784]) | Values : tensor([[-0.0175,  0.0336,  0.0039,  ...,  0.0136,  0.0038,  0.0198],\n",
            "        [-0.0314, -0.0196, -0.0240,  ..., -0.0143, -0.0110, -0.0244]],\n",
            "       device='cuda:0', grad_fn=<SliceBackward0>) \n",
            "\n",
            "Layer: linear_relu_stack.0.bias | Size: torch.Size([512]) | Values : tensor([-0.0240,  0.0104], device='cuda:0', grad_fn=<SliceBackward0>) \n",
            "\n",
            "Layer: linear_relu_stack.2.weight | Size: torch.Size([512, 512]) | Values : tensor([[ 0.0150,  0.0383,  0.0194,  ..., -0.0082,  0.0055, -0.0032],\n",
            "        [ 0.0100,  0.0330,  0.0164,  ...,  0.0172,  0.0214,  0.0394]],\n",
            "       device='cuda:0', grad_fn=<SliceBackward0>) \n",
            "\n",
            "Layer: linear_relu_stack.2.bias | Size: torch.Size([512]) | Values : tensor([ 0.0428, -0.0039], device='cuda:0', grad_fn=<SliceBackward0>) \n",
            "\n",
            "Layer: linear_relu_stack.4.weight | Size: torch.Size([10, 512]) | Values : tensor([[ 0.0420,  0.0391, -0.0177,  ...,  0.0107,  0.0337, -0.0166],\n",
            "        [-0.0190, -0.0206, -0.0187,  ...,  0.0033,  0.0223,  0.0174]],\n",
            "       device='cuda:0', grad_fn=<SliceBackward0>) \n",
            "\n",
            "Layer: linear_relu_stack.4.bias | Size: torch.Size([10]) | Values : tensor([ 0.0120, -0.0292], device='cuda:0', grad_fn=<SliceBackward0>) \n",
            "\n"
          ]
        }
      ]
    },
    {
      "cell_type": "markdown",
      "source": [
        "## Différenciation automatique avec ``torch.autograd``\n",
        "\n",
        "Lors de l'apprentissage des réseaux neuronaux, l'algorithme le plus fréquemment utilisé est le **backpropagation (rétropropagation)**. Dans cet algorithme, les paramètres (poids du modèle) sont ajustés en fonction du **gradient** de la fonction de perte par rapport au paramètre donné. La fonction de perte calcule la différence entre la sortie attendue et la sortie réelle produite par un réseau neuronal. L'objectif est de rapprocher le plus possible le résultat de la fonction de perte de zéro. L'algorithme parcourt le réseau neuronal à l'inverse pour ajuster les poids et les biais afin de réentraîner le modèle. C'est pourquoi on parle de rétropropagation. Ce processus de rétro-propagation et de réentraînement du modèle au fil du temps pour réduire la perte à 0 est appelé descente de gradient.\n",
        "\n",
        "Pour calculer ces gradients, PyTorch dispose d'un moteur de différenciation intégré appelé `torch.autograd`. Il permet le calcul automatique du gradient pour n'importe quel graphe de calcul.\n",
        "\n",
        "Considérons le plus simple des réseaux neuronaux à une couche, avec l'entrée `x`, les paramètres `w` et `b`, et une certaine fonction de perte. Il peut être défini dans\n",
        "PyTorch de la manière suivante :"
      ],
      "metadata": {
        "id": "3tODy59CeAvf"
      }
    },
    {
      "cell_type": "code",
      "source": [
        "%matplotlib inline\n",
        "import torch\n",
        "\n",
        "x = torch.ones(5)  # input tensor\n",
        "y = torch.zeros(3)  # expected output\n",
        "w = torch.randn(5, 3, requires_grad=True)\n",
        "b = torch.randn(3, requires_grad=True)\n",
        "z = torch.matmul(x, w)+b\n",
        "loss = torch.nn.functional.binary_cross_entropy_with_logits(z, y)"
      ],
      "metadata": {
        "id": "3lJYCD4U7PWS"
      },
      "execution_count": 36,
      "outputs": []
    },
    {
      "cell_type": "markdown",
      "source": [
        "## Tenseurs, fonctions et graphes de calcul\n",
        "\n",
        "Dans ce réseau, `w` et `b` sont des **paramètres** que nous devons optimiser. Par conséquent, nous devons être en mesure de calculer les gradients de la fonction de perte par rapport à ces variables.\n",
        "Pour ce faire, nous définissons la propriété `requires_grad` de ces tenseurs.\n",
        "\n",
        "> **Note:** Vous pouvez définir la valeur de `requires_grad` lors de la création d'un tenseur, ou plus tard en utilisant la méthode `x.requires_grad_(True)`.\n",
        "\n",
        "Une fonction que nous appliquons aux tenseurs pour construire des graphes de calcul est un objet de la classe `Fonction`. Cet objet sait comment\n",
        "calculer la fonction dans la direction *avant*, et aussi comment calculer sa dérivée pendant l'étape de *propagation en arrière*. Une référence à la fonction de rétropropagation est stockée dans la propriété `grad_fn` d'un tenseur."
      ],
      "metadata": {
        "id": "_bzq7kKAeAsp"
      }
    },
    {
      "cell_type": "code",
      "source": [
        "print('Gradient function for z =',z.grad_fn)\n",
        "print('Gradient function for loss =', loss.grad_fn)"
      ],
      "metadata": {
        "colab": {
          "base_uri": "https://localhost:8080/"
        },
        "id": "-Him6mRK7ZrU",
        "outputId": "ae38b169-d360-4c10-e2b3-156593e55ff9"
      },
      "execution_count": 37,
      "outputs": [
        {
          "output_type": "stream",
          "name": "stdout",
          "text": [
            "Gradient function for z = <AddBackward0 object at 0x7c426ccbb790>\n",
            "Gradient function for loss = <BinaryCrossEntropyWithLogitsBackward0 object at 0x7c426ccbace0>\n"
          ]
        }
      ]
    },
    {
      "cell_type": "markdown",
      "source": [
        "## Calcul des gradients\n",
        "\n",
        "Pour optimiser les poids des paramètres du réseau neuronal, nous devons\n",
        "calculer les dérivées de notre fonction de perte par rapport aux paramètres,\n",
        "à savoir, nous avons besoin de $\\frac{\\partial loss}{\\partial w}$ et\n",
        "$\\frac{\\partial loss}{\\partial b}$ sous certaines valeurs fixes de\n",
        "`x` et `y`. Pour calculer ces dérivées, nous appelons\n",
        "`loss.backward()`, puis nous récupérons les valeurs de `w.grad` et\n",
        "`b.grad` :"
      ],
      "metadata": {
        "id": "8nw4_4jKeApy"
      }
    },
    {
      "cell_type": "code",
      "source": [
        "loss.backward()\n",
        "print(w.grad)\n",
        "print(b.grad)"
      ],
      "metadata": {
        "colab": {
          "base_uri": "https://localhost:8080/"
        },
        "id": "5gpt0HD77kaG",
        "outputId": "17fcd239-eb3a-48c1-e7cd-e9bf97f2c1c2"
      },
      "execution_count": 38,
      "outputs": [
        {
          "output_type": "stream",
          "name": "stdout",
          "text": [
            "tensor([[0.2407, 0.2255, 0.2720],\n",
            "        [0.2407, 0.2255, 0.2720],\n",
            "        [0.2407, 0.2255, 0.2720],\n",
            "        [0.2407, 0.2255, 0.2720],\n",
            "        [0.2407, 0.2255, 0.2720]])\n",
            "tensor([0.2407, 0.2255, 0.2720])\n"
          ]
        }
      ]
    },
    {
      "cell_type": "markdown",
      "source": [
        ">**Note:** Nous ne pouvons obtenir les propriétés `grad` que pour les noeuds feuilles du graphe de calcul dont la propriété `requires_grad` est fixée à `True`. Pour tous les autres noeuds de notre graphe, les gradients ne seront pas disponibles.\n",
        "\n",
        "## Désactiver le suivi du gradient\n",
        "\n",
        "Par défaut, tous les tenseurs avec `requires_grad=True` suivent leur historique de calcul et supportent le calcul de gradient. Cependant, il y a des cas où nous n'avons pas besoin de faire cela, par exemple, lorsque nous avons entraîné le modèle et que nous voulons juste l'appliquer à des données d'entrée, c'est-à-dire que nous voulons seulement faire des calculs *en avant* à travers le réseau. Nous pouvons arrêter le suivi des calculs en entourant notre code de calcul d'un bloc `torch.no_grad()` :"
      ],
      "metadata": {
        "id": "EH97PMnCeAm3"
      }
    },
    {
      "cell_type": "code",
      "source": [
        "z = torch.matmul(x, w)+b\n",
        "print(z.requires_grad)\n",
        "\n",
        "with torch.no_grad():\n",
        "    z = torch.matmul(x, w)+b\n",
        "print(z.requires_grad)"
      ],
      "metadata": {
        "colab": {
          "base_uri": "https://localhost:8080/"
        },
        "id": "xi71Y26-7zyb",
        "outputId": "58ba3589-ef42-42ac-fb97-efb0ba96109b"
      },
      "execution_count": 39,
      "outputs": [
        {
          "output_type": "stream",
          "name": "stdout",
          "text": [
            "True\n",
            "False\n"
          ]
        }
      ]
    },
    {
      "cell_type": "markdown",
      "source": [
        "Une autre façon d'obtenir le même résultat est d'utiliser la méthode ``detach()`` sur le tenseur.\n",
        "sur le tenseur :"
      ],
      "metadata": {
        "id": "uwKf_yKeeAjw"
      }
    },
    {
      "cell_type": "code",
      "source": [
        "z = torch.matmul(x, w)+b\n",
        "z_det = z.detach()\n",
        "print(z_det.requires_grad)"
      ],
      "metadata": {
        "colab": {
          "base_uri": "https://localhost:8080/"
        },
        "id": "hNTA-mKv7-MN",
        "outputId": "ac7e9741-aefb-4c9d-fc59-983a945b33d6"
      },
      "execution_count": 40,
      "outputs": [
        {
          "output_type": "stream",
          "name": "stdout",
          "text": [
            "False\n"
          ]
        }
      ]
    },
    {
      "cell_type": "markdown",
      "source": [
        "Il existe plusieurs raisons de désactiver le suivi du gradient :\n",
        "  - Pour marquer certains paramètres de votre réseau neuronal comme **paramètres gelés**. Il s'agit d'un scénario très courant pour la mise au point d'un réseau pré-entrainé.\n",
        "  - Pour **accélérer les calculs** lorsque vous n'effectuez qu'une passe avant, car les calculs sur les tenseurs qui ne suivent pas les gradients sont plus efficaces."
      ],
      "metadata": {
        "id": "gduI-9wkeAgr"
      }
    },
    {
      "cell_type": "markdown",
      "source": [
        "En savoir plus sur les graphes informatiques\n",
        "----------------------------\n",
        "Conceptuellement, autograd conserve un enregistrement des données (tenseurs) et de toutes les opérations exécutées (ainsi que des nouveaux tenseurs résultants) dans un graphe acyclique dirigé (DAG) constitué d'objets [Function](https://pytorch.org/docs/stable/autograd.html#torch.autograd.Function)\n",
        "objets. Dans ce DAG, les feuilles sont les tenseurs d'entrée et les racines sont les tenseurs de sortie. En traçant ce graphe des racines aux feuilles, vous pouvez\n",
        "calculer automatiquement les gradients à l'aide de la règle de la chaîne.\n",
        "\n",
        "Dans une passe en avant, autograd fait deux choses simultanément :\n",
        "\n",
        "- il exécute l'opération demandée pour calculer le tenseur résultant, et\n",
        "- maintient la *fonction de gradient* de l'opération dans le DAG.\n",
        "\n",
        "La passe arrière démarre quand `.backward()` est appelé sur la racine du DAG. Ensuite, `autograd` :\n",
        "\n",
        "- calcule les gradients de chaque `.grad_fn`,\n",
        "- les accumule dans l'attribut `.grad` du tenseur correspondant, et\n",
        "- en utilisant la règle de la chaîne, se propage jusqu'aux tenseurs feuilles.\n",
        "\n",
        "**Les DAGs sont dynamiques dans PyTorch**\n",
        "\n",
        "  Une chose importante à noter est que le graphe est recréé à partir de zéro ; après chaque appel à `.backward()`, autograd commence à remplir un nouveau graphe. C'est exactement ce qui vous permet d'utiliser des instructions de flux de contrôle dans votre modèle ; vous pouvez changer la forme, la taille et les opérations à chaque itération si nécessaire."
      ],
      "metadata": {
        "id": "e2ulQm7reAax"
      }
    },
    {
      "cell_type": "markdown",
      "source": [
        "# Optimisation des paramètres du modèle\n",
        "\n",
        "Maintenant que nous disposons d'un modèle et de données, il est temps d'entraîner, de valider et de tester notre modèle en optimisant ses paramètres sur nos données. L'apprentissage d'un modèle est un processus itératif ; à chaque itération (*époch*). Le modèle fait une supposition sur la sortie, calcule l'erreur dans sa supposition (*perte*), collecte les dérivées de l'erreur par rapport à ses paramètres (comme nous l'avons vu dans le module précédent), et **optimise** ces paramètres à l'aide de la descente de gradient.\n",
        "\n",
        "## Code prérequis\n",
        "\n",
        "Nous allons charger le code des modules précédents sur **Datasets & DataLoaders** et **Build Model**."
      ],
      "metadata": {
        "id": "on3pkVrIeARj"
      }
    },
    {
      "cell_type": "code",
      "source": [
        "%matplotlib inline\n",
        "import torch\n",
        "from torch import nn\n",
        "from torch.utils.data import DataLoader\n",
        "from torchvision import datasets\n",
        "from torchvision.transforms import ToTensor, Lambda\n",
        "\n",
        "training_data = datasets.FashionMNIST(\n",
        "    root=\"data\",\n",
        "    train=True,\n",
        "    download=True,\n",
        "    transform=ToTensor()\n",
        ")\n",
        "\n",
        "test_data = datasets.FashionMNIST(\n",
        "    root=\"data\",\n",
        "    train=False,\n",
        "    download=True,\n",
        "    transform=ToTensor()\n",
        ")\n",
        "\n",
        "train_dataloader = DataLoader(training_data, batch_size=64)\n",
        "test_dataloader = DataLoader(test_data, batch_size=64)\n",
        "\n",
        "class NeuralNetwork(nn.Module):\n",
        "    def __init__(self):\n",
        "        super(NeuralNetwork, self).__init__()\n",
        "        self.flatten = nn.Flatten()\n",
        "        self.linear_relu_stack = nn.Sequential(\n",
        "            nn.Linear(28*28, 512),\n",
        "            nn.ReLU(),\n",
        "            nn.Linear(512, 512),\n",
        "            nn.ReLU(),\n",
        "            nn.Linear(512, 10),\n",
        "            nn.ReLU()\n",
        "        )\n",
        "\n",
        "    def forward(self, x):\n",
        "        x = self.flatten(x)\n",
        "        logits = self.linear_relu_stack(x)\n",
        "        return logits\n",
        "\n",
        "model = NeuralNetwork()"
      ],
      "metadata": {
        "id": "5FGJxafGZ4ZY"
      },
      "execution_count": 42,
      "outputs": []
    },
    {
      "cell_type": "markdown",
      "source": [
        "## Définition des hyperparamètres\n",
        "\n",
        "Les hyperparamètres sont des paramètres ajustables qui vous permettent de contrôler le processus d'optimisation du modèle.\n",
        "Différentes valeurs d'hyperparamètres peuvent avoir un impact sur l'apprentissage du modèle et le niveau de précision.\n",
        "\n",
        "Nous définissons les hyperparamètres suivants pour l'entrainement:\n",
        " - **Nombre d'époques** - le nombre de fois que l'ensemble des données d'apprentissage passe par le réseau.\n",
        " - **batch size** - taille du lot.\n",
        " - **Taux d'apprentissage** - la taille des étapes auxquelles le modèle correspond lorsqu'il recherche les meilleurs poids qui produiront une plus grande précision du modèle. Des valeurs plus petites signifient que le modèle mettra plus de temps à trouver les meilleurs poids. Des valeurs plus élevées peuvent conduire le modèle à dépasser et à manquer les meilleurs poids, ce qui entraîne un comportement imprévisible au cours de l'apprentissage."
      ],
      "metadata": {
        "id": "F-WJlBjT-nXi"
      }
    },
    {
      "cell_type": "code",
      "source": [
        "learning_rate = 1e-3\n",
        "batch_size = 64\n",
        "epochs = 5"
      ],
      "metadata": {
        "id": "1NOckGXL-sJc"
      },
      "execution_count": 43,
      "outputs": []
    },
    {
      "cell_type": "markdown",
      "source": [
        "## Ajouter une boucle d'optimisation\n",
        "\n",
        "Une fois que nous avons défini nos hyperparamètres, nous pouvons entraîner et optimiser notre modèle à l'aide d'une boucle d'optimisation. Chaque itération de la boucle d'optimisation est appelée **époque (epoch)**.\n",
        "\n",
        "Chaque époque se compose de deux parties principales :\n",
        " - **La boucle d'entraînement** - itère sur l'ensemble des données d'entraînement et tente de converger vers les paramètres optimaux.\n",
        " - **La boucle de validation/test** - itère sur l'ensemble de données de test pour vérifier si les performances du modèle s'améliorent.\n",
        "\n",
        "Examinons quelques-uns des concepts utilisés dans la boucle d'apprentissage. Passez à l'étape suivante pour voir l'implémentation complète de la boucle d'optimisation.\n",
        "\n",
        "### Ajouter une fonction de perte\n",
        "\n",
        "Lorsqu'on lui présente des données d'entraînement, notre réseau non entraîné est susceptible de ne pas donner la bonne réponse. Une **fonction de perte** mesure le degré de dissimilarité d'un résultat obtenu par rapport à la valeur cible, et c'est la fonction de perte que nous voulons minimiser pendant la formation. Pour calculer la perte, nous faisons une prédiction en utilisant les entrées de notre échantillon de données donné et nous la comparons à la véritable valeur de l'étiquette des données.\n",
        "\n",
        "Les fonctions de perte les plus courantes sont les suivantes\n",
        "\n",
        "- `nn.MSELoss` (Mean Square Error) utilisée pour les tâches de régression\n",
        "- `nn.NLLLoss` (Negative Log Likelihood) utilisée pour la classification\n",
        "- `nn.CrossEntropyLoss` combine `nn.LogSoftmax` et `nn.NLLLoss`.\n",
        "\n",
        "Nous passons les logits de sortie de notre modèle à `nn.CrossEntropyLoss`, qui va normaliser les logits et calculer l'erreur de prédiction."
      ],
      "metadata": {
        "id": "M_cc20Qr-nUf"
      }
    },
    {
      "cell_type": "code",
      "source": [
        "# Initialize the loss function\n",
        "loss_fn = nn.CrossEntropyLoss()"
      ],
      "metadata": {
        "id": "_dbGpws1-6xX"
      },
      "execution_count": 44,
      "outputs": []
    },
    {
      "cell_type": "markdown",
      "source": [
        "### Passe d'optimisation\n",
        "\n",
        "L'optimisation est le processus d'ajustement des paramètres du modèle afin de réduire l'erreur du modèle à chaque étape de l'apprentissage. **Les algorithmes d'optimisation** définissent la manière dont ce processus est exécuté (dans cet exemple, nous utilisons la *descente de gradient stochastique*).\n",
        "Toute la logique d'optimisation est encapsulée dans l'objet `optimizer`. Ici, nous utilisons l'optimiseur SGD ;\n",
        "Il existe de nombreux optimiseurs différents dans PyTorch, tels que `ADAM` et `RMSProp`, qui sont adaptés à différents types de modèles et de données.\n",
        "\n",
        "Nous initialisons l'optimiseur en enregistrant les paramètres du modèle qui doivent être entraînés, et en passant l'hyperparamètre du taux d'apprentissage."
      ],
      "metadata": {
        "id": "q_ldw3xq-nRy"
      }
    },
    {
      "cell_type": "code",
      "source": [
        "optimizer = torch.optim.SGD(model.parameters(), lr=learning_rate)"
      ],
      "metadata": {
        "id": "Vi3loPGs_D2p"
      },
      "execution_count": 45,
      "outputs": []
    },
    {
      "cell_type": "markdown",
      "source": [
        "A l'intérieur de la boucle d'apprentissage, l'optimisation se fait en trois étapes :\n",
        " * Appeler `optimizer.zero_grad()` pour réinitialiser les gradients des paramètres du modèle. Les gradients s'additionnent par défaut ; pour éviter le double comptage, nous les mettons explicitement à zéro à chaque itération.\n",
        " * Propager la perte de la prediction en faisant appel à `loss.backwards()`. PyTorch dépose les gradients de la perte par rapport à chaque paramètre.\n",
        " * Une fois que nous avons nos gradients, nous appelons `optimizer.step()` pour ajuster les paramètres par les gradients collectés dans la passe arrière."
      ],
      "metadata": {
        "id": "ZL-iOF4t-nPe"
      }
    },
    {
      "cell_type": "markdown",
      "source": [
        "## Implémentation complète\n",
        "\n",
        "Nous définissons une fonction `train_loop` qui boucle notre code d'optimisation, et une fonction `test_loop` qui évalue la performance du modèle par rapport à nos données de test.\n",
        "qui évalue les performances du modèle par rapport à nos données de test."
      ],
      "metadata": {
        "id": "pNEWmJlm-nMN"
      }
    },
    {
      "cell_type": "code",
      "source": [
        "def train_loop(dataloader, model, loss_fn, optimizer):\n",
        "    size = len(dataloader.dataset)\n",
        "    for batch, (X, y) in enumerate(dataloader):\n",
        "        # Compute prediction and loss\n",
        "        pred = model(X)\n",
        "        loss = loss_fn(pred, y)\n",
        "\n",
        "        # Backpropagation\n",
        "        optimizer.zero_grad()\n",
        "        loss.backward()\n",
        "        optimizer.step()\n",
        "\n",
        "        if batch % 100 == 0:\n",
        "            loss, current = loss.item(), batch * len(X)\n",
        "            print(f\"loss: {loss:>7f}  [{current:>5d}/{size:>5d}]\")\n",
        "\n",
        "\n",
        "def test_loop(dataloader, model, loss_fn):\n",
        "    size = len(dataloader.dataset)\n",
        "    test_loss, correct = 0, 0\n",
        "\n",
        "    with torch.no_grad():\n",
        "        for X, y in dataloader:\n",
        "            pred = model(X)\n",
        "            test_loss += loss_fn(pred, y).item()\n",
        "            correct += (pred.argmax(1) == y).type(torch.float).sum().item()\n",
        "\n",
        "    test_loss /= size\n",
        "    correct /= size\n",
        "    print(f\"Test Error: \\n Accuracy: {(100*correct):>0.1f}%, Avg loss: {test_loss:>8f} \\n\")"
      ],
      "metadata": {
        "id": "dQRDDzubAfPJ"
      },
      "execution_count": 46,
      "outputs": []
    },
    {
      "cell_type": "markdown",
      "source": [
        "Nous initialisons la fonction de perte et l'optimiseur, et nous les passons à `train_loop` et `test_loop`.\n",
        "N'hésitez pas à augmenter le nombre d'époques pour suivre l'amélioration des performances du modèle."
      ],
      "metadata": {
        "id": "8suadX1e-nJY"
      }
    },
    {
      "cell_type": "code",
      "source": [
        "loss_fn = nn.CrossEntropyLoss()\n",
        "optimizer = torch.optim.SGD(model.parameters(), lr=learning_rate)\n",
        "\n",
        "epochs = 10\n",
        "for t in range(epochs):\n",
        "    print(f\"Epoch {t+1}\\n-------------------------------\")\n",
        "    train_loop(train_dataloader, model, loss_fn, optimizer)\n",
        "    test_loop(test_dataloader, model, loss_fn)\n",
        "print(\"Done!\")"
      ],
      "metadata": {
        "colab": {
          "base_uri": "https://localhost:8080/"
        },
        "id": "hepz0eVsD1d-",
        "outputId": "2efae018-b9a8-4090-b40b-668275ba110f"
      },
      "execution_count": 47,
      "outputs": [
        {
          "output_type": "stream",
          "name": "stdout",
          "text": [
            "Epoch 1\n",
            "-------------------------------\n",
            "loss: 2.306868  [    0/60000]\n",
            "loss: 2.302304  [ 6400/60000]\n",
            "loss: 2.288317  [12800/60000]\n",
            "loss: 2.281337  [19200/60000]\n",
            "loss: 2.292015  [25600/60000]\n",
            "loss: 2.258157  [32000/60000]\n",
            "loss: 2.267298  [38400/60000]\n",
            "loss: 2.254184  [44800/60000]\n",
            "loss: 2.235031  [51200/60000]\n",
            "loss: 2.222592  [57600/60000]\n",
            "Test Error: \n",
            " Accuracy: 37.4%, Avg loss: 0.035040 \n",
            "\n",
            "Epoch 2\n",
            "-------------------------------\n",
            "loss: 2.240239  [    0/60000]\n",
            "loss: 2.250130  [ 6400/60000]\n",
            "loss: 2.204033  [12800/60000]\n",
            "loss: 2.189701  [19200/60000]\n",
            "loss: 2.238555  [25600/60000]\n",
            "loss: 2.171520  [32000/60000]\n",
            "loss: 2.185169  [38400/60000]\n",
            "loss: 2.163238  [44800/60000]\n",
            "loss: 2.128619  [51200/60000]\n",
            "loss: 2.112451  [57600/60000]\n",
            "Test Error: \n",
            " Accuracy: 47.8%, Avg loss: 0.033362 \n",
            "\n",
            "Epoch 3\n",
            "-------------------------------\n",
            "loss: 2.151102  [    0/60000]\n",
            "loss: 2.170022  [ 6400/60000]\n",
            "loss: 2.077194  [12800/60000]\n",
            "loss: 2.044783  [19200/60000]\n",
            "loss: 2.152618  [25600/60000]\n",
            "loss: 2.046684  [32000/60000]\n",
            "loss: 2.048615  [38400/60000]\n",
            "loss: 2.026174  [44800/60000]\n",
            "loss: 1.967756  [51200/60000]\n",
            "loss: 1.921019  [57600/60000]\n",
            "Test Error: \n",
            " Accuracy: 47.0%, Avg loss: 0.030705 \n",
            "\n",
            "Epoch 4\n",
            "-------------------------------\n",
            "loss: 2.007174  [    0/60000]\n",
            "loss: 2.038903  [ 6400/60000]\n",
            "loss: 1.880338  [12800/60000]\n",
            "loss: 1.827103  [19200/60000]\n",
            "loss: 2.031887  [25600/60000]\n",
            "loss: 1.885247  [32000/60000]\n",
            "loss: 1.858807  [38400/60000]\n",
            "loss: 1.868486  [44800/60000]\n",
            "loss: 1.789751  [51200/60000]\n",
            "loss: 1.697060  [57600/60000]\n",
            "Test Error: \n",
            " Accuracy: 46.7%, Avg loss: 0.027876 \n",
            "\n",
            "Epoch 5\n",
            "-------------------------------\n",
            "loss: 1.854740  [    0/60000]\n",
            "loss: 1.906801  [ 6400/60000]\n",
            "loss: 1.696530  [12800/60000]\n",
            "loss: 1.628775  [19200/60000]\n",
            "loss: 1.927376  [25600/60000]\n",
            "loss: 1.750548  [32000/60000]\n",
            "loss: 1.711661  [38400/60000]\n",
            "loss: 1.748866  [44800/60000]\n",
            "loss: 1.655752  [51200/60000]\n",
            "loss: 1.544137  [57600/60000]\n",
            "Test Error: \n",
            " Accuracy: 49.4%, Avg loss: 0.025815 \n",
            "\n",
            "Epoch 6\n",
            "-------------------------------\n",
            "loss: 1.738102  [    0/60000]\n",
            "loss: 1.805316  [ 6400/60000]\n",
            "loss: 1.558060  [12800/60000]\n",
            "loss: 1.494318  [19200/60000]\n",
            "loss: 1.826844  [25600/60000]\n",
            "loss: 1.645656  [32000/60000]\n",
            "loss: 1.608649  [38400/60000]\n",
            "loss: 1.656516  [44800/60000]\n",
            "loss: 1.553394  [51200/60000]\n",
            "loss: 1.444794  [57600/60000]\n",
            "Test Error: \n",
            " Accuracy: 51.9%, Avg loss: 0.024275 \n",
            "\n",
            "Epoch 7\n",
            "-------------------------------\n",
            "loss: 1.642002  [    0/60000]\n",
            "loss: 1.725809  [ 6400/60000]\n",
            "loss: 1.449080  [12800/60000]\n",
            "loss: 1.398817  [19200/60000]\n",
            "loss: 1.735591  [25600/60000]\n",
            "loss: 1.556667  [32000/60000]\n",
            "loss: 1.529289  [38400/60000]\n",
            "loss: 1.579421  [44800/60000]\n",
            "loss: 1.473183  [51200/60000]\n",
            "loss: 1.369901  [57600/60000]\n",
            "Test Error: \n",
            " Accuracy: 53.6%, Avg loss: 0.023051 \n",
            "\n",
            "Epoch 8\n",
            "-------------------------------\n",
            "loss: 1.558487  [    0/60000]\n",
            "loss: 1.661214  [ 6400/60000]\n",
            "loss: 1.360887  [12800/60000]\n",
            "loss: 1.324293  [19200/60000]\n",
            "loss: 1.658116  [25600/60000]\n",
            "loss: 1.479421  [32000/60000]\n",
            "loss: 1.464246  [38400/60000]\n",
            "loss: 1.515669  [44800/60000]\n",
            "loss: 1.407825  [51200/60000]\n",
            "loss: 1.310255  [57600/60000]\n",
            "Test Error: \n",
            " Accuracy: 54.4%, Avg loss: 0.022052 \n",
            "\n",
            "Epoch 9\n",
            "-------------------------------\n",
            "loss: 1.485049  [    0/60000]\n",
            "loss: 1.603404  [ 6400/60000]\n",
            "loss: 1.288423  [12800/60000]\n",
            "loss: 1.260221  [19200/60000]\n",
            "loss: 1.595063  [25600/60000]\n",
            "loss: 1.413458  [32000/60000]\n",
            "loss: 1.410442  [38400/60000]\n",
            "loss: 1.464825  [44800/60000]\n",
            "loss: 1.352875  [51200/60000]\n",
            "loss: 1.262150  [57600/60000]\n",
            "Test Error: \n",
            " Accuracy: 55.5%, Avg loss: 0.021232 \n",
            "\n",
            "Epoch 10\n",
            "-------------------------------\n",
            "loss: 1.421316  [    0/60000]\n",
            "loss: 1.555356  [ 6400/60000]\n",
            "loss: 1.228097  [12800/60000]\n",
            "loss: 1.206828  [19200/60000]\n",
            "loss: 1.544521  [25600/60000]\n",
            "loss: 1.357647  [32000/60000]\n",
            "loss: 1.365999  [38400/60000]\n",
            "loss: 1.423440  [44800/60000]\n",
            "loss: 1.306866  [51200/60000]\n",
            "loss: 1.224360  [57600/60000]\n",
            "Test Error: \n",
            " Accuracy: 56.1%, Avg loss: 0.020565 \n",
            "\n",
            "Done!\n"
          ]
        }
      ]
    },
    {
      "cell_type": "markdown",
      "source": [
        "Vous avez peut-être remarqué que le modèle n'est pas très bon au départ (ce n'est pas grave !). Essayez de faire tourner la boucle pour plus d'\"epochs\" ou d'ajuster le \"learning_rate\" à un nombre plus grand. Il se peut aussi que la configuration du modèle que nous avons choisie ne soit pas optimale pour ce type de problème (ce n'est pas le cas).\n"
      ],
      "metadata": {
        "id": "blapUaTU-nGf"
      }
    },
    {
      "cell_type": "markdown",
      "source": [
        "Sauvegarde des modèles\n",
        "-------------\n",
        "\n",
        "Lorsque vous êtes satisfait des performances du modèle, vous pouvez utiliser `torch.save` pour le sauvegarder. Les modèles PyTorch stockent les paramètres appris dans un dictionnaire d'état interne, appelé `state_dict`. Ils peuvent être persistés avec la méthode `torch.save` :"
      ],
      "metadata": {
        "id": "onn9zD6b-nDs"
      }
    },
    {
      "cell_type": "code",
      "source": [
        "torch.save(model.state_dict(), \"data/model.pth\")\n",
        "\n",
        "print(\"Saved PyTorch Model State to model.pth\")"
      ],
      "metadata": {
        "colab": {
          "base_uri": "https://localhost:8080/"
        },
        "id": "3SRmznFcFbqV",
        "outputId": "0aeaf521-f599-44eb-f043-7e4f8b63bee8"
      },
      "execution_count": 48,
      "outputs": [
        {
          "output_type": "stream",
          "name": "stdout",
          "text": [
            "Saved PyTorch Model State to model.pth\n"
          ]
        }
      ]
    },
    {
      "cell_type": "markdown",
      "source": [
        "# Charger le modèle\n",
        "\n",
        "Installtion des bibliotheques requises"
      ],
      "metadata": {
        "id": "mJ62HX86-nAr"
      }
    },
    {
      "cell_type": "code",
      "source": [
        "!pip install onnx\n",
        "!pip install onnxruntime"
      ],
      "metadata": {
        "colab": {
          "base_uri": "https://localhost:8080/"
        },
        "id": "dmw0HxbUIxjY",
        "outputId": "26bc82bc-22f8-4c1b-edf1-610939b805a8"
      },
      "execution_count": 49,
      "outputs": [
        {
          "output_type": "stream",
          "name": "stdout",
          "text": [
            "Collecting onnx\n",
            "  Downloading onnx-1.15.0-cp310-cp310-manylinux_2_17_x86_64.manylinux2014_x86_64.whl (15.7 MB)\n",
            "\u001b[2K     \u001b[90m━━━━━━━━━━━━━━━━━━━━━━━━━━━━━━━━━━━━━━━━\u001b[0m \u001b[32m15.7/15.7 MB\u001b[0m \u001b[31m78.3 MB/s\u001b[0m eta \u001b[36m0:00:00\u001b[0m\n",
            "\u001b[?25hRequirement already satisfied: numpy in /usr/local/lib/python3.10/dist-packages (from onnx) (1.23.5)\n",
            "Requirement already satisfied: protobuf>=3.20.2 in /usr/local/lib/python3.10/dist-packages (from onnx) (3.20.3)\n",
            "Installing collected packages: onnx\n",
            "Successfully installed onnx-1.15.0\n",
            "Collecting onnxruntime\n",
            "  Downloading onnxruntime-1.16.3-cp310-cp310-manylinux_2_17_x86_64.manylinux2014_x86_64.whl (6.4 MB)\n",
            "\u001b[2K     \u001b[90m━━━━━━━━━━━━━━━━━━━━━━━━━━━━━━━━━━━━━━━━\u001b[0m \u001b[32m6.4/6.4 MB\u001b[0m \u001b[31m40.4 MB/s\u001b[0m eta \u001b[36m0:00:00\u001b[0m\n",
            "\u001b[?25hCollecting coloredlogs (from onnxruntime)\n",
            "  Downloading coloredlogs-15.0.1-py2.py3-none-any.whl (46 kB)\n",
            "\u001b[2K     \u001b[90m━━━━━━━━━━━━━━━━━━━━━━━━━━━━━━━━━━━━━━━━\u001b[0m \u001b[32m46.0/46.0 kB\u001b[0m \u001b[31m6.0 MB/s\u001b[0m eta \u001b[36m0:00:00\u001b[0m\n",
            "\u001b[?25hRequirement already satisfied: flatbuffers in /usr/local/lib/python3.10/dist-packages (from onnxruntime) (23.5.26)\n",
            "Requirement already satisfied: numpy>=1.21.6 in /usr/local/lib/python3.10/dist-packages (from onnxruntime) (1.23.5)\n",
            "Requirement already satisfied: packaging in /usr/local/lib/python3.10/dist-packages (from onnxruntime) (23.2)\n",
            "Requirement already satisfied: protobuf in /usr/local/lib/python3.10/dist-packages (from onnxruntime) (3.20.3)\n",
            "Requirement already satisfied: sympy in /usr/local/lib/python3.10/dist-packages (from onnxruntime) (1.12)\n",
            "Collecting humanfriendly>=9.1 (from coloredlogs->onnxruntime)\n",
            "  Downloading humanfriendly-10.0-py2.py3-none-any.whl (86 kB)\n",
            "\u001b[2K     \u001b[90m━━━━━━━━━━━━━━━━━━━━━━━━━━━━━━━━━━━━━━━━\u001b[0m \u001b[32m86.8/86.8 kB\u001b[0m \u001b[31m9.9 MB/s\u001b[0m eta \u001b[36m0:00:00\u001b[0m\n",
            "\u001b[?25hRequirement already satisfied: mpmath>=0.19 in /usr/local/lib/python3.10/dist-packages (from sympy->onnxruntime) (1.3.0)\n",
            "Installing collected packages: humanfriendly, coloredlogs, onnxruntime\n",
            "Successfully installed coloredlogs-15.0.1 humanfriendly-10.0 onnxruntime-1.16.3\n"
          ]
        }
      ]
    },
    {
      "cell_type": "code",
      "source": [
        "%matplotlib inline\n",
        "import torch\n",
        "import onnxruntime\n",
        "from torch import nn\n",
        "import torch.onnx as onnx\n",
        "import torchvision.models as models\n",
        "from torchvision import datasets\n",
        "from torchvision.transforms import ToTensor"
      ],
      "metadata": {
        "id": "zclOzjpFHqdO"
      },
      "execution_count": 50,
      "outputs": []
    },
    {
      "cell_type": "markdown",
      "source": [
        "Pour charger le modèle, nous définissons la classe de modèle qui contient l'état et les paramètres du réseau neuronal utilisé pour entrainer le modèle."
      ],
      "metadata": {
        "id": "gZEvDyRK-m90"
      }
    },
    {
      "cell_type": "code",
      "source": [
        "class NeuralNetwork(nn.Module):\n",
        "    def __init__(self):\n",
        "        super(NeuralNetwork, self).__init__()\n",
        "        self.flatten = nn.Flatten()\n",
        "        self.linear_relu_stack = nn.Sequential(\n",
        "            nn.Linear(28*28, 512),\n",
        "            nn.ReLU(),\n",
        "            nn.Linear(512, 512),\n",
        "            nn.ReLU(),\n",
        "            nn.Linear(512, 10),\n",
        "            nn.ReLU()\n",
        "        )\n",
        "\n",
        "    def forward(self, x):\n",
        "        x = self.flatten(x)\n",
        "        logits = self.linear_relu_stack(x)\n",
        "        return logits"
      ],
      "metadata": {
        "id": "OyL5Df-OK2f4"
      },
      "execution_count": 51,
      "outputs": []
    },
    {
      "cell_type": "markdown",
      "source": [
        "Lors du chargement des poids du modèle, nous devons d'abord instancier la classe de modèle, car elle définit la structure d'un réseau. Ensuite, nous chargeons les paramètres à l'aide de la méthode `load_state_dict()`."
      ],
      "metadata": {
        "id": "5QT03LO7-m68"
      }
    },
    {
      "cell_type": "code",
      "source": [
        "model = NeuralNetwork()\n",
        "model.load_state_dict(torch.load('data/model.pth'))\n",
        "model.eval()"
      ],
      "metadata": {
        "colab": {
          "base_uri": "https://localhost:8080/"
        },
        "id": "_EoF29z9LAYK",
        "outputId": "5f0421a8-357e-439b-ed3d-fd5572428b19"
      },
      "execution_count": 52,
      "outputs": [
        {
          "output_type": "execute_result",
          "data": {
            "text/plain": [
              "NeuralNetwork(\n",
              "  (flatten): Flatten(start_dim=1, end_dim=-1)\n",
              "  (linear_relu_stack): Sequential(\n",
              "    (0): Linear(in_features=784, out_features=512, bias=True)\n",
              "    (1): ReLU()\n",
              "    (2): Linear(in_features=512, out_features=512, bias=True)\n",
              "    (3): ReLU()\n",
              "    (4): Linear(in_features=512, out_features=10, bias=True)\n",
              "    (5): ReLU()\n",
              "  )\n",
              ")"
            ]
          },
          "metadata": {},
          "execution_count": 52
        }
      ]
    },
    {
      "cell_type": "markdown",
      "source": [
        ">**Note:** Assurez-vous d'appeler la méthode `model.eval()` avant l'inférence pour mettre les couches d'exclusion (dropout) et de normalisation par lots (batch norm) en mode d'évaluation. Sinon, vous obtiendrez des résultats d'inférence incohérents."
      ],
      "metadata": {
        "id": "XfnvXA5J-m30"
      }
    },
    {
      "cell_type": "markdown",
      "source": [
        "## Inférence de modèle\n",
        "\n",
        "Il est difficile d'optimiser un modèle pour qu'il fonctionne sur une variété de plates-formes et de langages de programmation. Il faut beaucoup de temps pour maximiser les performances à travers toutes les différentes combinaisons de frameworks et de matériel. Le runtime **Open Neural Network Exchange (ONNX)** offre une solution pour entrainer une fois et accélérer l'inférence sur n'importe quel matériel, cloud ou périphérique.\n",
        "\n",
        "ONNX est un format commun pris en charge par un certain nombre de fournisseurs pour partager des réseaux neuronaux et d'autres modèles d'apprentissage automatique. Vous pouvez utiliser le format ONNX pour effectuer une inférence sur votre modèle dans d'autres langages de programmation et frameworks tels que Java, JavaScript, C# et ML.NET."
      ],
      "metadata": {
        "id": "TiIUxTO_LIxo"
      }
    },
    {
      "cell_type": "markdown",
      "source": [
        "## Exporter le modèle vers ONNX\n",
        "\n",
        "PyTorch dispose également d'un support natif pour l'exportation vers ONNX. Etant donné la nature dynamique du graphe d'exécution de PyTorch, le processus d'exportation doit traverser le graphe d'exécution pour produire un modèle ONNX persistant. Pour cette raison, une variable de test de la taille appropriée doit être passée à la routine d'exportation (dans notre cas, nous allons créer un tenseur zéro fictif de la bonne taille.  Vous pouvez obtenir la taille à partir de la fonction `shape` sur votre jeu de données d'apprentissage avec `tensor.shape`) :"
      ],
      "metadata": {
        "id": "7Y0liHHxLIuQ"
      }
    },
    {
      "cell_type": "code",
      "source": [
        "input_image = torch.zeros((1,28,28))\n",
        "onnx_model = 'data/model.onnx'\n",
        "onnx.export(model, input_image, onnx_model)"
      ],
      "metadata": {
        "id": "e0YudlKiLXVW"
      },
      "execution_count": 53,
      "outputs": []
    },
    {
      "cell_type": "markdown",
      "source": [
        "Nous utiliserons notre ensemble de données de test comme échantillon de données pour l'inférence du modèle ONNX afin de faire des prédictions."
      ],
      "metadata": {
        "id": "pOPIkUpZLIri"
      }
    },
    {
      "cell_type": "code",
      "source": [
        "test_data = datasets.FashionMNIST(\n",
        "    root=\"data\",\n",
        "    train=False,\n",
        "    download=True,\n",
        "    transform=ToTensor()\n",
        ")\n",
        "\n",
        "classes = [\n",
        "    \"T-shirt/top\",\n",
        "    \"Trouser\",\n",
        "    \"Pullover\",\n",
        "    \"Dress\",\n",
        "    \"Coat\",\n",
        "    \"Sandal\",\n",
        "    \"Shirt\",\n",
        "    \"Sneaker\",\n",
        "    \"Bag\",\n",
        "    \"Ankle boot\",\n",
        "]\n",
        "x, y = test_data[0][0], test_data[0][1]"
      ],
      "metadata": {
        "id": "3uZgRd0EMZRV"
      },
      "execution_count": 54,
      "outputs": []
    },
    {
      "cell_type": "markdown",
      "source": [
        "Nous créons une session d'inférence avec `onnxruntime.InferenceSession`. Pour inférer le modèle ONNX, appelez `run` et passez la liste des sorties que vous voulez retourner (laissez vide si vous les voulez toutes) et une carte des valeurs d'entrée. Le résultat est une liste de sorties."
      ],
      "metadata": {
        "id": "nKrfD-2aLIos"
      }
    },
    {
      "cell_type": "code",
      "source": [
        "session = onnxruntime.InferenceSession(onnx_model, None)\n",
        "input_name = session.get_inputs()[0].name\n",
        "output_name = session.get_outputs()[0].name\n",
        "\n",
        "result = session.run([output_name], {input_name: x.numpy()})\n",
        "predicted, actual = classes[result[0][0].argmax(0)], classes[y]\n",
        "print(f'Predicted: \"{predicted}\", Actual: \"{actual}\"')"
      ],
      "metadata": {
        "colab": {
          "base_uri": "https://localhost:8080/"
        },
        "id": "otZGqWKVMkSz",
        "outputId": "42922b85-5ada-43cf-8907-f3e1bb12e2af"
      },
      "execution_count": 55,
      "outputs": [
        {
          "output_type": "stream",
          "name": "stdout",
          "text": [
            "Predicted: \"Sandal\", Actual: \"Ankle boot\"\n"
          ]
        }
      ]
    },
    {
      "cell_type": "markdown",
      "source": [
        "Le modèle ONNX vous permet d'exécuter l'inférence sur différentes plates-formes et dans différents langages de programmation."
      ],
      "metadata": {
        "id": "ZEm5NcRYLIlp"
      }
    },
    {
      "cell_type": "markdown",
      "source": [
        "Cette unité passe en revue l'API pour les tâches courantes de l'apprentissage automatique. Reportez-vous aux liens de chaque section pour approfondir.\n",
        "\n",
        "## Travailler avec des données\n",
        "PyTorch possède deux primitives pour travailler avec des données : ``torch.utils.data.DataLoader`` et ``torch.utils.data.Dataset``. ``Dataset`` stocke les échantillons et leurs étiquettes correspondantes, et ``DataLoader`` enroule un itérable autour de ``Dataset``."
      ],
      "metadata": {
        "id": "tx3NZvICLIiz"
      }
    },
    {
      "cell_type": "code",
      "source": [
        "%matplotlib inline\n",
        "import torch\n",
        "from torch import nn\n",
        "from torch.utils.data import DataLoader\n",
        "from torchvision import datasets\n",
        "from torchvision.transforms import ToTensor, Lambda, Compose\n",
        "import matplotlib.pyplot as plt"
      ],
      "metadata": {
        "id": "suFlEluZNHrl"
      },
      "execution_count": 56,
      "outputs": []
    },
    {
      "cell_type": "markdown",
      "source": [
        "PyTorch propose des bibliothèques spécifiques à un domaine comme `TorchText`, `TorchVision`, et `TorchAudio`, qui incluent toutes des jeux de données. Pour ce tutoriel, nous utiliserons un jeu de données TorchVision.\n",
        "\n",
        "Le module ``torchvision.datasets`` contient des objets ``Dataset`` pour de nombreux jeux de données de vision du monde réel, tels que CIFAR et COCO. Dans ce tutoriel, nous utiliserons le dataset **FashionMNIST**. Chaque ``Dataset`` de TorchVision inclut deux arguments : ``transform`` et ``target_transform`` pour modifier les échantillons et les étiquettes respectivement."
      ],
      "metadata": {
        "id": "x7UWbf_nNKn2"
      }
    },
    {
      "cell_type": "code",
      "source": [
        "# Download training data from open datasets.\n",
        "training_data = datasets.FashionMNIST(\n",
        "    root=\"data\",\n",
        "    train=True,\n",
        "    download=True,\n",
        "    transform=ToTensor(),\n",
        ")\n",
        "\n",
        "# Download test data from open datasets.\n",
        "test_data = datasets.FashionMNIST(\n",
        "    root=\"data\",\n",
        "    train=False,\n",
        "    download=True,\n",
        "    transform=ToTensor(),\n",
        ")"
      ],
      "metadata": {
        "id": "RtQswqS0NtLN"
      },
      "execution_count": 57,
      "outputs": []
    },
    {
      "cell_type": "markdown",
      "source": [
        "Nous passons le ``Dataset`` comme argument à ``DataLoader``. Celui-ci enveloppe un itérable sur notre jeu de données, et supporte la mise en lot automatique, l'échantillonnage, le mélange, et le chargement de données multiprocessus. Ici, nous définissons une taille de lot de 64, où chaque élément de l'itérable dataloader retournera un lot de 64 caractéristiques et étiquettes."
      ],
      "metadata": {
        "id": "WctFN2ndNKkU"
      }
    },
    {
      "cell_type": "code",
      "source": [
        "batch_size = 64\n",
        "\n",
        "# Create data loaders.\n",
        "train_dataloader = DataLoader(training_data, batch_size=batch_size)\n",
        "test_dataloader = DataLoader(test_data, batch_size=batch_size)\n",
        "\n",
        "for X, y in test_dataloader:\n",
        "    print(\"Shape of X [N, C, H, W]: \", X.shape)\n",
        "    print(\"Shape of y: \", y.shape, y.dtype)\n",
        "    break\n",
        "\n",
        "# Display sample data\n",
        "figure = plt.figure(figsize=(10, 8))\n",
        "cols, rows = 5, 5\n",
        "for i in range(1, cols * rows + 1):\n",
        "    idx = torch.randint(len(test_data), size=(1,)).item()\n",
        "    img, label = test_data[idx]\n",
        "    figure.add_subplot(rows, cols, i)\n",
        "    plt.title(label)\n",
        "    plt.axis(\"off\")\n",
        "    plt.imshow(img.squeeze(), cmap=\"gray\")\n",
        "plt.show()"
      ],
      "metadata": {
        "colab": {
          "base_uri": "https://localhost:8080/",
          "height": 710
        },
        "id": "T18D946DN4Az",
        "outputId": "2e946052-108c-4c41-fd00-b016d3d56cb5"
      },
      "execution_count": 58,
      "outputs": [
        {
          "output_type": "stream",
          "name": "stdout",
          "text": [
            "Shape of X [N, C, H, W]:  torch.Size([64, 1, 28, 28])\n",
            "Shape of y:  torch.Size([64]) torch.int64\n"
          ]
        },
        {
          "output_type": "display_data",
          "data": {
            "text/plain": [
              "<Figure size 1000x800 with 25 Axes>"
            ],
            "image/png": "[encoded data removed]"
          },
          "metadata": {}
        }
      ]
    },
    {
      "cell_type": "markdown",
      "source": [
        "## Création de modèles\n",
        "Pour définir un réseau neuronal dans PyTorch, nous créons une classe qui hérite de `nn.Module`. Nous définissons les couches du réseau dans la fonction `__init__` et spécifions comment les données passeront à travers le réseau dans la fonction ``forward``. Pour accélérer les opérations dans le réseau neuronal, nous le déplaçons vers le GPU s'il est disponible."
      ],
      "metadata": {
        "id": "sbHyGFBONKhE"
      }
    },
    {
      "cell_type": "code",
      "source": [
        "# Get cpu or gpu device for training.\n",
        "device = \"cuda\" if torch.cuda.is_available() else \"cpu\"\n",
        "print(\"Using {} device\".format(device))\n",
        "\n",
        "# Define model\n",
        "class NeuralNetwork(nn.Module):\n",
        "    def __init__(self):\n",
        "        super(NeuralNetwork, self).__init__()\n",
        "        self.flatten = nn.Flatten()\n",
        "        self.linear_relu_stack = nn.Sequential(\n",
        "            nn.Linear(28*28, 512),\n",
        "            nn.ReLU(),\n",
        "            nn.Linear(512, 512),\n",
        "            nn.ReLU(),\n",
        "            nn.Linear(512, 10),\n",
        "            nn.ReLU()\n",
        "        )\n",
        "\n",
        "    def forward(self, x):\n",
        "        x = self.flatten(x)\n",
        "        logits = self.linear_relu_stack(x)\n",
        "        return logits\n",
        "\n",
        "model = NeuralNetwork().to(device)\n",
        "print(model)"
      ],
      "metadata": {
        "colab": {
          "base_uri": "https://localhost:8080/"
        },
        "id": "mSoqESDaOERL",
        "outputId": "aec73c9d-2046-4134-9413-6dfcd944a4d5"
      },
      "execution_count": 59,
      "outputs": [
        {
          "output_type": "stream",
          "name": "stdout",
          "text": [
            "Using cuda device\n",
            "NeuralNetwork(\n",
            "  (flatten): Flatten(start_dim=1, end_dim=-1)\n",
            "  (linear_relu_stack): Sequential(\n",
            "    (0): Linear(in_features=784, out_features=512, bias=True)\n",
            "    (1): ReLU()\n",
            "    (2): Linear(in_features=512, out_features=512, bias=True)\n",
            "    (3): ReLU()\n",
            "    (4): Linear(in_features=512, out_features=10, bias=True)\n",
            "    (5): ReLU()\n",
            "  )\n",
            ")\n"
          ]
        }
      ]
    },
    {
      "cell_type": "markdown",
      "source": [
        "## Optimisation des paramètres du modèle\n",
        "Pour entraîner un modèle, nous avons besoin d'une fonction de perte et d'un optimiseur.  Nous utiliserons `nn.CrossEntropyLoss` pour la perte et `Stochastic Gradient Descent` pour l'optimisation."
      ],
      "metadata": {
        "id": "UZ8eUkJzNKeR"
      }
    },
    {
      "cell_type": "code",
      "source": [
        "loss_fn = nn.CrossEntropyLoss()\n",
        "learning_rate = 1e-3\n",
        "optimizer = torch.optim.SGD(model.parameters(), lr=learning_rate)"
      ],
      "metadata": {
        "id": "B-XDGwefPNu6"
      },
      "execution_count": 60,
      "outputs": []
    },
    {
      "cell_type": "markdown",
      "source": [
        "Dans une seule boucle d'apprentissage, le modèle fait des prédictions sur l'ensemble des données d'apprentissage (qui lui sont fournies par lots) et rétro-propage l'erreur de prédiction pour ajuster les paramètres du modèle."
      ],
      "metadata": {
        "id": "f3zD8oDiNKbO"
      }
    },
    {
      "cell_type": "code",
      "source": [
        "def train(dataloader, model, loss_fn, optimizer):\n",
        "    size = len(dataloader.dataset)\n",
        "    for batch, (X, y) in enumerate(dataloader):\n",
        "        X, y = X.to(device), y.to(device)\n",
        "\n",
        "        # Compute prediction error\n",
        "        pred = model(X)\n",
        "        loss = loss_fn(pred, y)\n",
        "\n",
        "        # Backpropagation\n",
        "        optimizer.zero_grad()\n",
        "        loss.backward()\n",
        "        optimizer.step()\n",
        "\n",
        "        if batch % 100 == 0:\n",
        "            loss, current = loss.item(), batch * len(X)\n",
        "            print(f\"loss: {loss:>7f}  [{current:>5d}/{size:>5d}]\")"
      ],
      "metadata": {
        "id": "O2uZPdFJPXWK"
      },
      "execution_count": 61,
      "outputs": []
    },
    {
      "cell_type": "markdown",
      "source": [
        "Nous pouvons également vérifier les performances du modèle par rapport à l'ensemble de données de test pour nous assurer qu'il apprend."
      ],
      "metadata": {
        "id": "JWs33tAzNKYg"
      }
    },
    {
      "cell_type": "code",
      "source": [
        "def test(dataloader, model):\n",
        "    size = len(dataloader.dataset)\n",
        "    model.eval()\n",
        "    test_loss, correct = 0, 0\n",
        "    with torch.no_grad():\n",
        "        for X, y in dataloader:\n",
        "            X, y = X.to(device), y.to(device)\n",
        "            pred = model(X)\n",
        "            test_loss += loss_fn(pred, y).item()\n",
        "            correct += (pred.argmax(1) == y).type(torch.float).sum().item()\n",
        "    test_loss /= size\n",
        "    correct /= size\n",
        "    print(f\"Test Error: \\n Accuracy: {(100*correct):>0.1f}%, Avg loss: {test_loss:>8f} \\n\")"
      ],
      "metadata": {
        "id": "vsoRQij0PhTJ"
      },
      "execution_count": 62,
      "outputs": []
    },
    {
      "cell_type": "markdown",
      "source": [
        "Le processus d'entrainement se déroule sur plusieurs itérations (*époques*). Au cours de chaque époque, le modèle apprend des paramètres qui lui permettent de faire de meilleures prédictions. Nous imprimons la précision et la perte du modèle à chaque époque ; nous aimerions voir la précision augmenter et la perte diminuer à chaque époque."
      ],
      "metadata": {
        "id": "7wDmRfxANKVo"
      }
    },
    {
      "cell_type": "code",
      "source": [
        "epochs = 15\n",
        "for t in range(epochs):\n",
        "    print(f\"Epoch {t+1}\\n-------------------------------\")\n",
        "    train(train_dataloader, model, loss_fn, optimizer)\n",
        "    test(test_dataloader, model)\n",
        "print(\"Done!\")"
      ],
      "metadata": {
        "colab": {
          "base_uri": "https://localhost:8080/"
        },
        "id": "NPLxhCFbPr3g",
        "outputId": "1c96cc98-8a39-49a5-d910-b6b14f52cd9a"
      },
      "execution_count": 63,
      "outputs": [
        {
          "output_type": "stream",
          "name": "stdout",
          "text": [
            "Epoch 1\n",
            "-------------------------------\n",
            "loss: 2.304143  [    0/60000]\n",
            "loss: 2.295089  [ 6400/60000]\n",
            "loss: 2.287698  [12800/60000]\n",
            "loss: 2.288141  [19200/60000]\n",
            "loss: 2.291366  [25600/60000]\n",
            "loss: 2.292116  [32000/60000]\n",
            "loss: 2.290787  [38400/60000]\n",
            "loss: 2.289249  [44800/60000]\n",
            "loss: 2.274554  [51200/60000]\n",
            "loss: 2.292720  [57600/60000]\n",
            "Test Error: \n",
            " Accuracy: 30.7%, Avg loss: 0.035672 \n",
            "\n",
            "Epoch 2\n",
            "-------------------------------\n",
            "loss: 2.262474  [    0/60000]\n",
            "loss: 2.254426  [ 6400/60000]\n",
            "loss: 2.236782  [12800/60000]\n",
            "loss: 2.254334  [19200/60000]\n",
            "loss: 2.267371  [25600/60000]\n",
            "loss: 2.271662  [32000/60000]\n",
            "loss: 2.271303  [38400/60000]\n",
            "loss: 2.268336  [44800/60000]\n",
            "loss: 2.241397  [51200/60000]\n",
            "loss: 2.282161  [57600/60000]\n",
            "Test Error: \n",
            " Accuracy: 30.8%, Avg loss: 0.035160 \n",
            "\n",
            "Epoch 3\n",
            "-------------------------------\n",
            "loss: 2.219392  [    0/60000]\n",
            "loss: 2.207433  [ 6400/60000]\n",
            "loss: 2.176809  [12800/60000]\n",
            "loss: 2.212300  [19200/60000]\n",
            "loss: 2.241279  [25600/60000]\n",
            "loss: 2.246385  [32000/60000]\n",
            "loss: 2.249456  [38400/60000]\n",
            "loss: 2.243386  [44800/60000]\n",
            "loss: 2.201934  [51200/60000]\n",
            "loss: 2.271643  [57600/60000]\n",
            "Test Error: \n",
            " Accuracy: 30.4%, Avg loss: 0.034560 \n",
            "\n",
            "Epoch 4\n",
            "-------------------------------\n",
            "loss: 2.169668  [    0/60000]\n",
            "loss: 2.151510  [ 6400/60000]\n",
            "loss: 2.105657  [12800/60000]\n",
            "loss: 2.162536  [19200/60000]\n",
            "loss: 2.213632  [25600/60000]\n",
            "loss: 2.216170  [32000/60000]\n",
            "loss: 2.226145  [38400/60000]\n",
            "loss: 2.216183  [44800/60000]\n",
            "loss: 2.160531  [51200/60000]\n",
            "loss: 2.258895  [57600/60000]\n",
            "Test Error: \n",
            " Accuracy: 30.8%, Avg loss: 0.033920 \n",
            "\n",
            "Epoch 5\n",
            "-------------------------------\n",
            "loss: 2.116903  [    0/60000]\n",
            "loss: 2.093521  [ 6400/60000]\n",
            "loss: 2.032371  [12800/60000]\n",
            "loss: 2.111400  [19200/60000]\n",
            "loss: 2.185157  [25600/60000]\n",
            "loss: 2.181292  [32000/60000]\n",
            "loss: 2.195190  [38400/60000]\n",
            "loss: 2.170077  [44800/60000]\n",
            "loss: 2.115929  [51200/60000]\n",
            "loss: 2.219607  [57600/60000]\n",
            "Test Error: \n",
            " Accuracy: 32.4%, Avg loss: 0.032915 \n",
            "\n",
            "Epoch 6\n",
            "-------------------------------\n",
            "loss: 2.045389  [    0/60000]\n",
            "loss: 2.002953  [ 6400/60000]\n",
            "loss: 1.918326  [12800/60000]\n",
            "loss: 2.036828  [19200/60000]\n",
            "loss: 2.068365  [25600/60000]\n",
            "loss: 2.073889  [32000/60000]\n",
            "loss: 2.124947  [38400/60000]\n",
            "loss: 2.074920  [44800/60000]\n",
            "loss: 2.060016  [51200/60000]\n",
            "loss: 2.155261  [57600/60000]\n",
            "Test Error: \n",
            " Accuracy: 41.4%, Avg loss: 0.031523 \n",
            "\n",
            "Epoch 7\n",
            "-------------------------------\n",
            "loss: 1.954446  [    0/60000]\n",
            "loss: 1.890995  [ 6400/60000]\n",
            "loss: 1.788049  [12800/60000]\n",
            "loss: 1.954564  [19200/60000]\n",
            "loss: 1.936747  [25600/60000]\n",
            "loss: 1.965480  [32000/60000]\n",
            "loss: 2.051239  [38400/60000]\n",
            "loss: 1.980203  [44800/60000]\n",
            "loss: 2.004491  [51200/60000]\n",
            "loss: 2.095993  [57600/60000]\n",
            "Test Error: \n",
            " Accuracy: 39.6%, Avg loss: 0.030172 \n",
            "\n",
            "Epoch 8\n",
            "-------------------------------\n",
            "loss: 1.871170  [    0/60000]\n",
            "loss: 1.790688  [ 6400/60000]\n",
            "loss: 1.675882  [12800/60000]\n",
            "loss: 1.883010  [19200/60000]\n",
            "loss: 1.819856  [25600/60000]\n",
            "loss: 1.881139  [32000/60000]\n",
            "loss: 1.992041  [38400/60000]\n",
            "loss: 1.911047  [44800/60000]\n",
            "loss: 1.956170  [51200/60000]\n",
            "loss: 2.056270  [57600/60000]\n",
            "Test Error: \n",
            " Accuracy: 40.1%, Avg loss: 0.029168 \n",
            "\n",
            "Epoch 9\n",
            "-------------------------------\n",
            "loss: 1.808890  [    0/60000]\n",
            "loss: 1.721789  [ 6400/60000]\n",
            "loss: 1.600669  [12800/60000]\n",
            "loss: 1.831103  [19200/60000]\n",
            "loss: 1.740018  [25600/60000]\n",
            "loss: 1.827373  [32000/60000]\n",
            "loss: 1.947381  [38400/60000]\n",
            "loss: 1.865244  [44800/60000]\n",
            "loss: 1.912831  [51200/60000]\n",
            "loss: 2.025098  [57600/60000]\n",
            "Test Error: \n",
            " Accuracy: 41.0%, Avg loss: 0.028435 \n",
            "\n",
            "Epoch 10\n",
            "-------------------------------\n",
            "loss: 1.760406  [    0/60000]\n",
            "loss: 1.674278  [ 6400/60000]\n",
            "loss: 1.547782  [12800/60000]\n",
            "loss: 1.791248  [19200/60000]\n",
            "loss: 1.685631  [25600/60000]\n",
            "loss: 1.789408  [32000/60000]\n",
            "loss: 1.910302  [38400/60000]\n",
            "loss: 1.830604  [44800/60000]\n",
            "loss: 1.875142  [51200/60000]\n",
            "loss: 1.997996  [57600/60000]\n",
            "Test Error: \n",
            " Accuracy: 41.9%, Avg loss: 0.027869 \n",
            "\n",
            "Epoch 11\n",
            "-------------------------------\n",
            "loss: 1.720430  [    0/60000]\n",
            "loss: 1.638561  [ 6400/60000]\n",
            "loss: 1.507035  [12800/60000]\n",
            "loss: 1.761205  [19200/60000]\n",
            "loss: 1.647785  [25600/60000]\n",
            "loss: 1.761819  [32000/60000]\n",
            "loss: 1.879692  [38400/60000]\n",
            "loss: 1.803207  [44800/60000]\n",
            "loss: 1.843197  [51200/60000]\n",
            "loss: 1.975435  [57600/60000]\n",
            "Test Error: \n",
            " Accuracy: 42.5%, Avg loss: 0.027419 \n",
            "\n",
            "Epoch 12\n",
            "-------------------------------\n",
            "loss: 1.687158  [    0/60000]\n",
            "loss: 1.610487  [ 6400/60000]\n",
            "loss: 1.473773  [12800/60000]\n",
            "loss: 1.737629  [19200/60000]\n",
            "loss: 1.618415  [25600/60000]\n",
            "loss: 1.708998  [32000/60000]\n",
            "loss: 1.819915  [38400/60000]\n",
            "loss: 1.708864  [44800/60000]\n",
            "loss: 1.787360  [51200/60000]\n",
            "loss: 1.934585  [57600/60000]\n",
            "Test Error: \n",
            " Accuracy: 47.1%, Avg loss: 0.026475 \n",
            "\n",
            "Epoch 13\n",
            "-------------------------------\n",
            "loss: 1.597093  [    0/60000]\n",
            "loss: 1.580469  [ 6400/60000]\n",
            "loss: 1.394527  [12800/60000]\n",
            "loss: 1.701453  [19200/60000]\n",
            "loss: 1.594472  [25600/60000]\n",
            "loss: 1.640796  [32000/60000]\n",
            "loss: 1.767315  [38400/60000]\n",
            "loss: 1.648686  [44800/60000]\n",
            "loss: 1.746342  [51200/60000]\n",
            "loss: 1.912845  [57600/60000]\n",
            "Test Error: \n",
            " Accuracy: 48.8%, Avg loss: 0.025950 \n",
            "\n",
            "Epoch 14\n",
            "-------------------------------\n",
            "loss: 1.548764  [    0/60000]\n",
            "loss: 1.554406  [ 6400/60000]\n",
            "loss: 1.355161  [12800/60000]\n",
            "loss: 1.676048  [19200/60000]\n",
            "loss: 1.568144  [25600/60000]\n",
            "loss: 1.612388  [32000/60000]\n",
            "loss: 1.733588  [38400/60000]\n",
            "loss: 1.611575  [44800/60000]\n",
            "loss: 1.710865  [51200/60000]\n",
            "loss: 1.893425  [57600/60000]\n",
            "Test Error: \n",
            " Accuracy: 49.5%, Avg loss: 0.025539 \n",
            "\n",
            "Epoch 15\n",
            "-------------------------------\n",
            "loss: 1.512011  [    0/60000]\n",
            "loss: 1.532959  [ 6400/60000]\n",
            "loss: 1.324775  [12800/60000]\n",
            "loss: 1.656717  [19200/60000]\n",
            "loss: 1.549929  [25600/60000]\n",
            "loss: 1.589957  [32000/60000]\n",
            "loss: 1.706018  [38400/60000]\n",
            "loss: 1.581691  [44800/60000]\n",
            "loss: 1.680956  [51200/60000]\n",
            "loss: 1.877521  [57600/60000]\n",
            "Test Error: \n",
            " Accuracy: 50.0%, Avg loss: 0.025211 \n",
            "\n",
            "Done!\n"
          ]
        }
      ]
    },
    {
      "cell_type": "markdown",
      "source": [
        "Au début, la précision ne sera pas très bonne (ce n'est pas grave !). Essayez de faire tourner la boucle pour plus d'\"epochs\" ou d'ajuster le \"learning_rate\" à un nombre plus grand. Il se peut aussi que la configuration du modèle que nous avons choisie ne soit pas optimale pour ce type de problème (ce n'est pas le cas). Des cours ultérieurs approfondiront les formes de modèles qui fonctionnent pour les problèmes de vision."
      ],
      "metadata": {
        "id": "Jsj_Y-5hNKS9"
      }
    },
    {
      "cell_type": "markdown",
      "source": [
        "Sauvegarde des modèles\n",
        "-------------\n",
        "Une façon courante de sauvegarder un modèle consiste à sérialiser le dictionnaire d'états internes (contenant les paramètres du modèle)."
      ],
      "metadata": {
        "id": "rgWC4LFBNKP-"
      }
    },
    {
      "cell_type": "code",
      "source": [
        "torch.save(model.state_dict(), \"data/model.pth\")\n",
        "print(\"Saved PyTorch Model State to model.pth\")"
      ],
      "metadata": {
        "colab": {
          "base_uri": "https://localhost:8080/"
        },
        "id": "MlQH2B_zP_O4",
        "outputId": "b3c5eca4-7416-4ac5-a7d8-ab19aeaa4cc6"
      },
      "execution_count": 64,
      "outputs": [
        {
          "output_type": "stream",
          "name": "stdout",
          "text": [
            "Saved PyTorch Model State to model.pth\n"
          ]
        }
      ]
    },
    {
      "cell_type": "markdown",
      "source": [
        "Chargement des modèles\n",
        "----------------------------\n",
        "\n",
        "Le processus de chargement d'un modèle consiste à recréer la structure du modèle et à y charger le dictionnaire d'états.\n",
        "le dictionnaire d'états."
      ],
      "metadata": {
        "id": "4X_4fmyyNKNS"
      }
    },
    {
      "cell_type": "code",
      "source": [
        "model = NeuralNetwork()\n",
        "model.load_state_dict(torch.load(\"data/model.pth\"))"
      ],
      "metadata": {
        "colab": {
          "base_uri": "https://localhost:8080/"
        },
        "id": "MmE2EXp1QL4I",
        "outputId": "529c96b0-1b7c-40b8-9804-5ccb3c32f55f"
      },
      "execution_count": 65,
      "outputs": [
        {
          "output_type": "execute_result",
          "data": {
            "text/plain": [
              "<All keys matched successfully>"
            ]
          },
          "metadata": {},
          "execution_count": 65
        }
      ]
    },
    {
      "cell_type": "markdown",
      "source": [
        "Ce modèle peut maintenant être utilisé pour faire des prévisions."
      ],
      "metadata": {
        "id": "DxxLPUm4NKKN"
      }
    },
    {
      "cell_type": "code",
      "source": [
        "classes = [\n",
        "    \"T-shirt/top\",\n",
        "    \"Trouser\",\n",
        "    \"Pullover\",\n",
        "    \"Dress\",\n",
        "    \"Coat\",\n",
        "    \"Sandal\",\n",
        "    \"Shirt\",\n",
        "    \"Sneaker\",\n",
        "    \"Bag\",\n",
        "    \"Ankle boot\",\n",
        "]\n",
        "\n",
        "model.eval()\n",
        "x, y = test_data[0][0], test_data[0][1]\n",
        "with torch.no_grad():\n",
        "    pred = model(x)\n",
        "    predicted, actual = classes[pred[0].argmax(0)], classes[y]\n",
        "    print(f'Predicted: \"{predicted}\", Actual: \"{actual}\"')"
      ],
      "metadata": {
        "colab": {
          "base_uri": "https://localhost:8080/"
        },
        "id": "F1E7DeliQU6R",
        "outputId": "4c5c22e1-2eab-4117-91e7-68bcc0e13a61"
      },
      "execution_count": 66,
      "outputs": [
        {
          "output_type": "stream",
          "name": "stdout",
          "text": [
            "Predicted: \"Ankle boot\", Actual: \"Ankle boot\"\n"
          ]
        }
      ]
    }
  ]
}